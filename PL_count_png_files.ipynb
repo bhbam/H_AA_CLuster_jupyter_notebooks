{
 "cells": [
  {
   "cell_type": "code",
   "execution_count": 1,
   "id": "bd4f64e1-c714-41ac-8e25-fc1c6e3ae8bb",
   "metadata": {
    "tags": []
   },
   "outputs": [],
   "source": [
    "import glob\n",
    "import shutil\n",
    "import os, sys\n"
   ]
  },
  {
   "cell_type": "code",
   "execution_count": 7,
   "id": "6384def1-199a-45c9-91fd-736af6febf8d",
   "metadata": {
    "tags": []
   },
   "outputs": [
    {
     "name": "stdout",
     "output_type": "stream",
     "text": [
      "ls: cannot access '/dev/shm/bbbam/': No such file or directory\n"
     ]
    }
   ],
   "source": [
    "!ls /dev/shm/bbbam/"
   ]
  },
  {
   "cell_type": "code",
   "execution_count": 2,
   "id": "c50fe0e5-6fa1-4c65-8248-46bccc631f25",
   "metadata": {
    "tags": []
   },
   "outputs": [
    {
     "data": {
      "text/plain": [
       "0"
      ]
     },
     "execution_count": 2,
     "metadata": {},
     "output_type": "execute_result"
    }
   ],
   "source": [
    "train= glob.glob(\"dev/shm/bbbam/*\")\n",
    "len(train)"
   ]
  },
  {
   "cell_type": "code",
   "execution_count": 3,
   "id": "81a8a23d-7ede-4c19-80c4-d2ba67f14f67",
   "metadata": {
    "tags": []
   },
   "outputs": [
    {
     "data": {
      "text/plain": [
       "0"
      ]
     },
     "execution_count": 3,
     "metadata": {},
     "output_type": "execute_result"
    }
   ],
   "source": [
    "valid = glob.glob(\"/pscratch/sd/b/bbbam/boostedTau_classifier_13channels_png/test/*\")\n",
    "len(valid)"
   ]
  },
  {
   "cell_type": "code",
   "execution_count": 4,
   "id": "3d54cfec-cda0-4943-8396-40f2fee8281c",
   "metadata": {
    "tags": []
   },
   "outputs": [
    {
     "data": {
      "text/plain": [
       "0"
      ]
     },
     "execution_count": 4,
     "metadata": {},
     "output_type": "execute_result"
    }
   ],
   "source": [
    "back_TTH_valid=glob.glob(\"/pscratch/sd/b/bbbam/png_classification/back_TTT/valid/*\")\n",
    "len(back_TTH_valid)"
   ]
  },
  {
   "cell_type": "code",
   "execution_count": 5,
   "id": "27a11baa-da2d-46d2-ab5f-87d324a548c2",
   "metadata": {
    "tags": []
   },
   "outputs": [
    {
     "ename": "NameError",
     "evalue": "name 'back_Wjet_train' is not defined",
     "output_type": "error",
     "traceback": [
      "\u001b[0;31m---------------------------------------------------------------------------\u001b[0m",
      "\u001b[0;31mNameError\u001b[0m                                 Traceback (most recent call last)",
      "Cell \u001b[0;32mIn[5], line 1\u001b[0m\n\u001b[0;32m----> 1\u001b[0m total_train_back\u001b[38;5;241m=\u001b[39m\u001b[38;5;28mlen\u001b[39m(\u001b[43mback_Wjet_train\u001b[49m\u001b[38;5;241m+\u001b[39mback_DYT_train\u001b[38;5;241m+\u001b[39mback_TTH_train\u001b[38;5;241m+\u001b[39mback_HTauTau_train\u001b[38;5;241m+\u001b[39mback_QCD_train)\n\u001b[1;32m      2\u001b[0m total_train_back\n",
      "\u001b[0;31mNameError\u001b[0m: name 'back_Wjet_train' is not defined"
     ]
    }
   ],
   "source": [
    "total_train_back=len(back_Wjet_train+back_DYT_train+back_TTH_train+back_HTauTau_train+back_QCD_train)\n",
    "total_train_back"
   ]
  },
  {
   "cell_type": "code",
   "execution_count": 15,
   "id": "51cf4995-e45a-400d-ba99-38a24a0f7505",
   "metadata": {},
   "outputs": [
    {
     "data": {
      "text/plain": [
       "425000"
      ]
     },
     "execution_count": 15,
     "metadata": {},
     "output_type": "execute_result"
    }
   ],
   "source": [
    "total_valid_back=len(back_Wjet_valid+back_DYT_valid+back_TTH_valid+back_HTauTau_valid+back_QCD_valid)\n",
    "total_valid_back"
   ]
  },
  {
   "cell_type": "code",
   "execution_count": 89,
   "id": "504afbaa-f38d-4f1d-b882-92b460b672ec",
   "metadata": {
    "tags": []
   },
   "outputs": [
    {
     "data": {
      "text/plain": [
       "-6463"
      ]
     },
     "execution_count": 89,
     "metadata": {},
     "output_type": "execute_result"
    }
   ],
   "source": [
    "425000-431463\n"
   ]
  },
  {
   "cell_type": "code",
   "execution_count": 94,
   "id": "a0c2ebd5-20e8-46b4-838e-4f60be199473",
   "metadata": {},
   "outputs": [
    {
     "data": {
      "text/plain": [
       "2125000"
      ]
     },
     "execution_count": 94,
     "metadata": {},
     "output_type": "execute_result"
    }
   ],
   "source": [
    "425000*5"
   ]
  },
  {
   "cell_type": "code",
   "execution_count": 93,
   "id": "81ac5edc-7b09-4143-9164-6ed169a7e644",
   "metadata": {
    "tags": []
   },
   "outputs": [
    {
     "data": {
      "text/plain": [
       "856463"
      ]
     },
     "execution_count": 93,
     "metadata": {},
     "output_type": "execute_result"
    }
   ],
   "source": [
    "total_valid= glob.glob(\"/pscratch/sd/b/bbbam/boostedTau_classifier_13channels_png/test/*\")\n",
    "len(total_valid)"
   ]
  },
  {
   "cell_type": "code",
   "execution_count": 97,
   "id": "8663ee52-c86e-44f4-be69-cf3deca9fc59",
   "metadata": {
    "tags": []
   },
   "outputs": [
    {
     "name": "stdout",
     "output_type": "stream",
     "text": [
      "back_DYT  back_HTauTau\tback_QCD  back_TTT  back_WJets\tsignal\n"
     ]
    }
   ],
   "source": [
    "!ls /pscratch/sd/b/bbbam/png_classification/"
   ]
  },
  {
   "cell_type": "code",
   "execution_count": 39,
   "id": "d50b780b-d046-4c6c-a010-4f59039af1a9",
   "metadata": {},
   "outputs": [],
   "source": [
    "#! find /pscratch/sd/b/bbbam/png_classification/back_WJets/train/ -maxdepth 1 -type f -exec mv -t /pscratch/sd/b/bbbam/boostedTau_classifier_13channels_png/train/ {} +"
   ]
  },
  {
   "cell_type": "code",
   "execution_count": 98,
   "id": "16cc857a-694d-4634-bc35-294c04301007",
   "metadata": {
    "tags": []
   },
   "outputs": [
    {
     "name": "stdout",
     "output_type": "stream",
     "text": [
      "\tzip warning: name not matched: /pscratch/sd/b/bbbam/boostedTau_classifier_13channels_png.zip\n",
      "\n",
      "zip error: Nothing to do! (try: zip -r /pscratch/sd/b/bbbam/boostedTau_classifier_13channels_png . -i /pscratch/sd/b/bbbam/boostedTau_classifier_13channels_png.zip)\n"
     ]
    }
   ],
   "source": [
    "# !zip -r /pscratch/sd/b/bbbam/boostedTau_classifier_13channels_png /pscratch/sd/b/bbbam/boostedTau_classifier_13channels_png.zip"
   ]
  },
  {
   "cell_type": "code",
   "execution_count": null,
   "id": "ee5ee279-1d79-4630-a25a-03133bf5bbd3",
   "metadata": {},
   "outputs": [],
   "source": []
  }
 ],
 "metadata": {
  "kernelspec": {
   "display_name": "NERSC Python",
   "language": "python",
   "name": "python3"
  },
  "language_info": {
   "codemirror_mode": {
    "name": "ipython",
    "version": 3
   },
   "file_extension": ".py",
   "mimetype": "text/x-python",
   "name": "python",
   "nbconvert_exporter": "python",
   "pygments_lexer": "ipython3",
   "version": "3.11.6"
  }
 },
 "nbformat": 4,
 "nbformat_minor": 5
}
