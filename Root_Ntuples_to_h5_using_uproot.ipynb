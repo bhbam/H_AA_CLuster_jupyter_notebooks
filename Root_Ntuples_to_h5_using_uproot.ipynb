{
 "cells": [
  {
   "cell_type": "code",
   "execution_count": 3,
   "id": "8407f48a-12d8-41f6-a05c-b41132083dff",
   "metadata": {
    "tags": []
   },
   "outputs": [],
   "source": [
    "import uproot, h5py\n",
    "import awkward as ak\n",
    "import numpy as np\n",
    "import pandas as pd\n",
    "import matplotlib.pyplot as plt\n",
    "import mplhep as hep\n",
    "import os, glob\n",
    "import matplotlib.pyplot as plt\n",
    "import matplotlib.colors as mcolors\n",
    "import mplhep as hep\n",
    "from skimage.measure import block_reduce\n",
    "from numpy.lib.stride_tricks import as_strided\n",
    "plt.style.use([hep.style.ROOT, hep.style.firamath])\n",
    "from matplotlib.colors import LinearSegmentedColormap\n",
    "from matplotlib.colors import LogNorm, ListedColormap, LinearSegmentedColormap\n",
    "import matplotlib.patches as mpatches\n",
    "# Define the CMS color scheme\n",
    "cms_colors = [\n",
    "    (0.00, '#FFFFFF'),  # White\n",
    "    (0.33, '#005EB8'),  # Blue\n",
    "    (0.66, '#FFDD00'),  # Yellow\n",
    "    (1.00, '#FF0000')   # red\n",
    "]\n",
    "\n",
    "# Create the CMS colormap\n",
    "cms_cmap = LinearSegmentedColormap.from_list('CMS', cms_colors)\n",
    "from numpy.lib.stride_tricks import as_strided\n",
    "\n",
    "\n"
   ]
  },
  {
   "cell_type": "code",
   "execution_count": 2,
   "id": "3e21b840-2e36-48a4-a3b4-dfb7dc45ee43",
   "metadata": {
    "tags": []
   },
   "outputs": [],
   "source": [
    "def upsample_array(x, b0, b1):\n",
    "    r, c = x.shape                                    # number of rows/columns\n",
    "    rs, cs = x.strides                                # row/column strides\n",
    "    x = as_strided(x, (r, b0, c, b1), (rs, 0, cs, 0)) # view as a larger 4D array\n",
    "    return x.reshape(r*b0, c*b1)/(b0*b1) # create new 2D array with same total occupancy\n",
    "    \n",
    "def resample_EE(imgECAL, factor=2):\n",
    "    # EE-\n",
    "    imgEEm = imgECAL[:140-85] # EE- in the first 55 rows\n",
    "    imgEEm = np.pad(imgEEm, ((1,0),(0,0)), 'constant', constant_values=0) # for even downsampling, zero pad 55 -> 56\n",
    "    imgEEm_dn = block_reduce(imgEEm, block_size=(factor, factor), func=np.sum) # downsample by summing over [factor, factor] window\n",
    "    imgEEm_dn_up = upsample_array(imgEEm_dn, factor, factor)/(factor*factor) # upsample will use same values so need to correct scale by factor**2\n",
    "    imgECAL[:140-85] = imgEEm_dn_up[1:] ## replace the old EE- rows\n",
    "    # EE+\n",
    "    imgEEp = imgECAL[140+85:] # EE+ in the last 55 rows\n",
    "    imgEEp = np.pad(imgEEp, ((0,1),(0,0)), 'constant', constant_values=0) # for even downsampling, zero pad 55 -> 56\n",
    "    imgEEp_dn = block_reduce(imgEEp, block_size=(factor, factor), func=np.sum) # downsample by summing over [factor, factor] window\n",
    "    imgEEp_dn_up = upsample_array(imgEEp_dn, factor, factor)# upsample will use same values so need to correct scale by factor*factor\n",
    "    imgECAL[140+85:] = imgEEp_dn_up[:-1] # replace the old EE+ rows\n",
    "    return imgECAL\n",
    "\n",
    "\n",
    "\n",
    "def crop_jet(imgECAL, iphi, ieta, jet_shape=125):\n",
    "\n",
    "    # NOTE: jet_shape here should correspond to the one used in RHAnalyzer\n",
    "    off = jet_shape//2\n",
    "    iphi = int(iphi*5 + 2) # 5 EB xtals per HB tower\n",
    "    ieta = int(ieta*5 + 2) # 5 EB xtals per HB tower\n",
    "\n",
    "    # Wrap-around on left side\n",
    "    if iphi < off:\n",
    "        diff = off-iphi\n",
    "        img_crop = np.concatenate((imgECAL[:,ieta-off:ieta+off+1,-diff:],\n",
    "                                   imgECAL[:,ieta-off:ieta+off+1,:iphi+off+1]), axis=-1)\n",
    "    # Wrap-around on right side\n",
    "    elif 360-iphi < off:\n",
    "        diff = off - (360-iphi)\n",
    "        img_crop = np.concatenate((imgECAL[:,ieta-off:ieta+off+1,iphi-off:],\n",
    "                                   imgECAL[:,ieta-off:ieta+off+1,:diff+1]), axis=-1)\n",
    "    # Nominal case\n",
    "    else:\n",
    "        img_crop = imgECAL[:,ieta-off:ieta+off+1,iphi-off:iphi+off+1]\n",
    "\n",
    "    return img_crop"
   ]
  },
  {
   "cell_type": "markdown",
   "id": "dce4860e-8e5e-4a25-a7c5-61f5faf5d3fc",
   "metadata": {},
   "source": [
    "### Layesrs in images"
   ]
  },
  {
   "cell_type": "code",
   "execution_count": 4,
   "id": "489703b5-5ced-456b-9171-482b2ad71f3d",
   "metadata": {
    "tags": []
   },
   "outputs": [
    {
     "name": "stdout",
     "output_type": "stream",
     "text": [
      "Number of layers 23\n"
     ]
    }
   ],
   "source": [
    "layers =['TracksAtECAL_pt', 'TracksAtECAL_dZSig', 'TracksAtECAL_d0Sig', 'ECAL_energy', \\\n",
    "         'HBHE_energy', 'PixAtEcal_1','PixAtEcal_2', 'PixAtEcal_3', 'PixAtEcal_4', 'TibAtEcal_1',\\\n",
    "         'TibAtEcal_2','TobAtEcal_1','TobAtEcal_2', 'TibAtEcal_3','TibAtEcal_4', 'TobAtEcal_3', \\\n",
    "         'TobAtEcal_4', 'TobAtEcal_5', 'TobAtEcal_6' , 'TidAtEcal_1',\\\n",
    "                                  'TecAtEcal_1', 'TecAtEcal_2', 'TecAtEcal_3']\n",
    "print(\"Number of layers\", len(layers))\n"
   ]
  },
  {
   "cell_type": "code",
   "execution_count": 61,
   "id": "eb5823c2-79e8-4346-89cf-49f856f011f0",
   "metadata": {
    "tags": []
   },
   "outputs": [],
   "source": [
    "\n",
    "def convert_h5py_file(file, outdir):\n",
    "    file=file\n",
    "    outdir = outdir\n",
    "    if not os.path.exists(outdir):\n",
    "        os.makedirs(outdir)\n",
    "        \n",
    "    RHFile = uproot.open(file)\n",
    "    RHTree = RHFile[\"fevt/RHTree\"]\n",
    "    branches = RHTree.arrays()\n",
    "    outfile_name = f\"{file.split('/')[-1].split('.')[0]}.h5\"\n",
    "    chunk_size = 2\n",
    "    index_ = 0\n",
    "    \n",
    "    with h5py.File(f'{outdir}/{outfile_name}', 'w') as proper_data:\n",
    "            dataset_names = ['all_jet', 'am', 'ieta', 'iphi', 'm0', 'a_pt', 'jet_pt']\n",
    "            # dataset_names = ['all_jet', 'am', 'ieta', 'iphi']\n",
    "            datasets = {\n",
    "                name: proper_data.create_dataset(\n",
    "                    name,\n",
    "                    shape= (0,13, 125, 125) if 'jet' in name else (0,1),\n",
    "                    maxshape=(None, 13, 125, 125) if 'jet' in name else (None, 1),\n",
    "                    dtype='float32',  # Specify an appropriate data type\n",
    "                    compression='lzf',\n",
    "                    chunks=(chunk_size, 13, 125, 125) if 'jet' in name else (chunk_size, 1),\n",
    "                ) for name in dataset_names\n",
    "            }\n",
    "    \n",
    "            for i in range(len(branches[\"ECAL_energy\"])):\n",
    "                ECAL_energy = np.array(branches[\"ECAL_energy\"][i]).reshape(280,360)\n",
    "                # ECAL_energy = resample_EE(ECAL_energy)\n",
    "                HBHE_energy_ = np.array(branches[\"HBHE_energy\"][i]).reshape(56,72)\n",
    "                HBHE_energy = upsample_array(HBHE_energy_, 5, 5) # (280, 360)\n",
    "                TracksAtECAL_pt = np.array(branches[\"ECAL_tracksPt_atECALfixIP\"][i]).reshape(280,360)\n",
    "                TracksAtECAL_dZSig = np.array(branches[\"ECAL_tracksDzSig_atECALfixIP\"][i]).reshape(280,360)\n",
    "                TracksAtECAL_d0Sig = np.array(branches[\"ECAL_tracksD0Sig_atECALfixIP\"][i]).reshape(280,360)\n",
    "                PixAtEcal_1        = np.array(branches[\"BPIX_layer1_ECAL_atPV\"][i]).reshape(280,360)\n",
    "                PixAtEcal_2        = np.array(branches[\"BPIX_layer2_ECAL_atPV\"][i]).reshape(280,360)\n",
    "                PixAtEcal_3        = np.array(branches[\"BPIX_layer3_ECAL_atPV\"][i]).reshape(280,360)\n",
    "                PixAtEcal_4        = np.array(branches[\"BPIX_layer4_ECAL_atPV\"][i]).reshape(280,360)\n",
    "                TibAtEcal_1        = np.array(branches[\"TIB_layer1_ECAL_atPV\"][i]).reshape(280,360)\n",
    "                TibAtEcal_2        = np.array(branches[\"TIB_layer2_ECAL_atPV\"][i]).reshape(280,360)\n",
    "                TibAtEcal_3        = np.array(branches[\"TIB_layer3_ECAL_atPV\"][i]).reshape(280,360)\n",
    "                TibAtEcal_4        = np.array(branches[\"TIB_layer4_ECAL_atPV\"][i]).reshape(280,360)\n",
    "                TobAtEcal_1        = np.array(branches[\"TOB_layer1_ECAL_atPV\"][i]).reshape(280,360)\n",
    "                TobAtEcal_2        = np.array(branches[\"TOB_layer2_ECAL_atPV\"][i]).reshape(280,360)\n",
    "                TobAtEcal_3        = np.array(branches[\"TOB_layer3_ECAL_atPV\"][i]).reshape(280,360)\n",
    "                TobAtEcal_4        = np.array(branches[\"TOB_layer4_ECAL_atPV\"][i]).reshape(280,360)\n",
    "                TobAtEcal_5        = np.array(branches[\"TOB_layer5_ECAL_atPV\"][i]).reshape(280,360)\n",
    "                TobAtEcal_6        = np.array(branches[\"TOB_layer6_ECAL_atPV\"][i]).reshape(280,360)\n",
    "                TecAtEcal_1        = np.array(branches[\"TEC_layer1_ECAL_atPV\"][i]).reshape(280,360)\n",
    "                TecAtEcal_2        = np.array(branches[\"TEC_layer2_ECAL_atPV\"][i]).reshape(280,360)\n",
    "                TecAtEcal_3        = np.array(branches[\"TEC_layer3_ECAL_atPV\"][i]).reshape(280,360)\n",
    "                TidAtEcal_1        = np.array(branches[\"TID_layer1_ECAL_atPV\"][i]).reshape(280,360)\n",
    "                X_CMS             = np.stack([TracksAtECAL_pt, TracksAtECAL_dZSig, TracksAtECAL_d0Sig, ECAL_energy, HBHE_energy, PixAtEcal_1,\\\n",
    "                PixAtEcal_2, PixAtEcal_3, PixAtEcal_4, TibAtEcal_1, TibAtEcal_2, TobAtEcal_1,\\\n",
    "                                              TobAtEcal_2], axis=0) # (13, 280, 360)\n",
    "                # X_CMS             = np.stack([TracksAtECAL_pt, TracksAtECAL_dZSig, TracksAtECAL_d0Sig, ECAL_energy, HBHE_energy, PixAtEcal_1,\\\n",
    "                # PixAtEcal_2, PixAtEcal_3, PixAtEcal_4, TibAtEcal_1, TibAtEcal_2, TobAtEcal_1,\\\n",
    "                #                               TobAtEcal_2,  TibAtEcal_3, TibAtEcal_4, TobAtEcal_3, TobAtEcal_4, TobAtEcal_5, TobAtEcal_6, TidAtEcal_1,\\\n",
    "                #                               TecAtEcal_1, TecAtEcal_2, TecAtEcal_3], axis=0) # (23, 280, 360)\n",
    "                # ys = ak.Array(branches[\"jetIsSignal\"])[i]\n",
    "                ys = ak.Array(branches[\"jetIsDiTau\"])[i]\n",
    "                iphis  = ak.Array(branches[\"jetSeed_iphi\"])[i]\n",
    "                ietas  = ak.Array(branches[\"jetSeed_ieta\"])[i]\n",
    "                m0s    = ak.Array(branches[\"jetM\"])[i]\n",
    "                jetpts = ak.Array(branches[\"jetPt\"])[i]\n",
    "                ams = ak.Array(branches[\"a_m\"])[i]\n",
    "                apts = ak.Array(branches[\"a_pt\"])[i]\n",
    "\n",
    "                index_ = index_ + len(ys)\n",
    "                print(f\"working on jet {index_}\")\n",
    "                for name, dataset in datasets.items():\n",
    "                    dataset.resize((index_,13, 125, 125) if 'jet' in name else (index_,1))\n",
    "\n",
    "                for j in range(len(ys)):\n",
    "                    proper_data['all_jet'][index_ - len(ys) + j, :, :, :] = crop_jet(X_CMS, iphis[j], ietas[j], jet_shape=125)\n",
    "                    proper_data['am'][index_ - len(ys) + j, :] = ams[j]\n",
    "                    proper_data['ieta'][index_ - len(ys) + j, :] = ietas[j]\n",
    "                    proper_data['iphi'][index_ - len(ys) + j, :] = iphis[j]\n",
    "                    proper_data['m0'][index_ - len(ys) + j, :] = m0s[j]\n",
    "                    proper_data['a_pt'][index_ - len(ys) + j, :] = apts[j]\n",
    "                    proper_data['jet_pt'][index_ - len(ys) + j, :] = jetpts[j]\n",
    "\n"
   ]
  },
  {
   "cell_type": "code",
   "execution_count": 62,
   "id": "bceec5ee-0cf1-49d3-9e35-60208cbd3268",
   "metadata": {
    "tags": []
   },
   "outputs": [
    {
     "name": "stdout",
     "output_type": "stream",
     "text": [
      "working on jet 1\n",
      "working on jet 2\n",
      "working on jet 3\n",
      "working on jet 4\n",
      "working on jet 6\n",
      "working on jet 7\n",
      "working on jet 9\n",
      "working on jet 11\n",
      "working on jet 13\n"
     ]
    }
   ],
   "source": [
    "convert_h5py_file(file=file, outdir='test')"
   ]
  },
  {
   "cell_type": "code",
   "execution_count": 73,
   "id": "19885bb1-f039-413a-bbab-6cbbd1df00fc",
   "metadata": {},
   "outputs": [
    {
     "name": "stdout",
     "output_type": "stream",
     "text": [
      "(13, 125, 125)\n",
      "13\n"
     ]
    }
   ],
   "source": [
    "file = 'test/Ato2Tau_massreg_sample.h5'\n",
    "data = h5py.File(f'{file}', 'r')\n",
    "\n",
    "\n",
    "\n",
    "images_batch = data[\"all_jet\"][0]\n",
    "am_batch = data[\"am\"][0]\n",
    "# ieta_batch = data[\"ieta\"][start_idx:end_idx, :]\n",
    "# iphi_batch = data[\"iphi\"][start_idx:end_idx, :]\n",
    "# m0_batch = data[\"m0\"][start_idx:end_idx, :]\n",
    "\n",
    "print(images_batch.shape)    \n",
    "print(len(data[\"am\"]))\n",
    "data.close()\n",
    "    \n"
   ]
  },
  {
   "cell_type": "code",
   "execution_count": null,
   "id": "1d3cc803-a45c-4a63-bce0-57687a068bb4",
   "metadata": {},
   "outputs": [],
   "source": []
  }
 ],
 "metadata": {
  "kernelspec": {
   "display_name": "Python 3 (ipykernel)",
   "language": "python",
   "name": "python3"
  },
  "language_info": {
   "codemirror_mode": {
    "name": "ipython",
    "version": 3
   },
   "file_extension": ".py",
   "mimetype": "text/x-python",
   "name": "python",
   "nbconvert_exporter": "python",
   "pygments_lexer": "ipython3",
   "version": "3.8.15"
  }
 },
 "nbformat": 4,
 "nbformat_minor": 5
}
