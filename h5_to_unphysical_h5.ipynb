{
 "cells": [
  {
   "cell_type": "code",
   "execution_count": 8,
   "id": "7757d232-f1e4-4948-91ed-30736e9e3b6f",
   "metadata": {
    "tags": []
   },
   "outputs": [],
   "source": [
    "import os, time, random\n",
    "import json\n",
    "import numpy as np\n",
    "import h5py\n",
    "from tqdm import tqdm\n",
    "%matplotlib inline\n",
    "import matplotlib.pyplot as plt\n"
   ]
  },
  {
   "cell_type": "code",
   "execution_count": 18,
   "id": "1420a237-e881-4ad7-ba18-79a65ef8b768",
   "metadata": {
    "tags": []
   },
   "outputs": [
    {
     "name": "stderr",
     "output_type": "stream",
     "text": [
      "100%|██████████| 4/4 [00:00<00:00,  5.25it/s]"
     ]
    },
    {
     "name": "stdout",
     "output_type": "stream",
     "text": [
      "original number of am.  22\n"
     ]
    },
    {
     "name": "stderr",
     "output_type": "stream",
     "text": [
      "\n"
     ]
    }
   ],
   "source": [
    "\n",
    "infile ='/pscratch/sd/b/bbbam/IMG_aToTauTau_m1p2T018_combined_normalized_h5/IMG_aToTauTau_Hadronic_m1p2To18_pt30T0300_unbiased_train_normalized.h5'\n",
    "unphy_bins = np.arange(-1.2,1.3,0.4)\n",
    "\n",
    "chunk_size =32\n",
    "batch_size = 320\n",
    "\n",
    "data = h5py.File(f'{infile}', 'r')\n",
    "# num_images = data[\"all_jet\"].shape[0]\n",
    "\n",
    "num_images = 1000\n",
    "\n",
    "# if not os.path.exists(outdir):\n",
    "#     os.makedirs(outdir)\n",
    "\n",
    "prefix = infile.split('/')[-1].split('.')[0]\n",
    "outfile = f'{prefix}_unphysica_negative_mass.h5'\n",
    "\n",
    "with h5py.File(f'{outfile}', 'w') as proper_data:\n",
    "    dataset_names = ['all_jet', 'am', 'ieta', 'iphi', 'apt']\n",
    "    datasets = {\n",
    "    name: proper_data.create_dataset(\n",
    "        name,\n",
    "        shape= (0,13, 125, 125) if 'all_jet' in name else (0,1),\n",
    "        maxshape=(None, 13, 125, 125) if 'all_jet' in name else (None, 1),\n",
    "        dtype='float32',  # Specify an appropriate data type\n",
    "        compression='lzf',\n",
    "        chunks=(chunk_size, 13, 125, 125) if 'all_jet' in name else (chunk_size, 1),\n",
    "    ) for name in dataset_names\n",
    "        }\n",
    "    orig_num_am = 0\n",
    "    start_idx_, end_idx_, start_idx = 0, 0, 0\n",
    "    for start_idx in tqdm(range(0, num_images, batch_size)):\n",
    "        end_idx = min(start_idx + batch_size, num_images)\n",
    "        images_batch = data[\"all_jet\"][start_idx:end_idx, :, :, :]\n",
    "        am_batch = data[\"am\"][start_idx:end_idx, :]\n",
    "        ieta_batch = data[\"ieta\"][start_idx:end_idx, :]\n",
    "        iphi_batch = data[\"iphi\"][start_idx:end_idx, :]\n",
    "        apt_batch = data[\"apt\"][start_idx:end_idx, :]\n",
    "\n",
    "\n",
    "\n",
    "        lowest_mass_mask = am_batch < 1.6\n",
    "        images_batch = images_batch[lowest_mass_mask.flatten()]\n",
    "        am_batch = am_batch[lowest_mass_mask]\n",
    "        ieta_batch = ieta_batch[lowest_mass_mask]\n",
    "        iphi_batch = iphi_batch[lowest_mass_mask]\n",
    "        apt_batch = apt_batch[lowest_mass_mask]\n",
    "        orig_num_am = orig_num_am + len(am_batch)\n",
    "        start_idx_ = min(start_idx, end_idx_)\n",
    "        end_idx_   = min(start_idx_ + images_batch.shape[0], num_images)\n",
    "\n",
    "        if len(images_batch) <1 : continue\n",
    "\n",
    "        new_am_batch = []\n",
    "        new_images_batch =[]\n",
    "        new_ieta_batch = []\n",
    "        new_iphi_batch = []\n",
    "        new_apt_batch = []\n",
    "\n",
    "        for i in range(len(images_batch)):\n",
    "            # Generate a random mass in each bin\n",
    "            temp_am_batch = np.array([[np.random.uniform(low, high)] for low, high in zip(unphy_bins[:-1], unphy_bins[1:])])\n",
    "            new_am_batch.append(temp_am_batch)\n",
    "            # print(\"new_images_batch\", new_images_batch.shape)\n",
    "            # dublicate image for each unphysical mass bins\n",
    "            temp_images_batch = np.repeat(images_batch[i][np.newaxis, ...], len(unphy_bins)-1, axis=0)\n",
    "            new_images_batch.append(temp_images_batch)\n",
    "            temp_ieta_batch = np.repeat(ieta_batch[i][np.newaxis, ...], len(unphy_bins)-1, axis=0)\n",
    "            new_ieta_batch.append(temp_ieta_batch)\n",
    "            temp_iphi_batch = np.repeat(iphi_batch[i][np.newaxis, ...], len(unphy_bins)-1, axis=0)\n",
    "            new_iphi_batch.append(temp_iphi_batch)\n",
    "            temp_apt_batch = np.repeat(apt_batch[i][np.newaxis, ...], len(unphy_bins)-1, axis=0)\n",
    "            new_apt_batch.append(temp_apt_batch)\n",
    "\n",
    "        new_am_batch = np.concatenate(new_am_batch, axis=0)\n",
    "        new_images_batch = np.concatenate(new_images_batch, axis=0)\n",
    "        new_ieta_batch = np.concatenate(new_ieta_batch, axis=0)\n",
    "        new_iphi_batch = np.concatenate(new_iphi_batch, axis=0)\n",
    "        new_apt_batch = np.concatenate(new_apt_batch, axis=0)\n",
    "\n",
    "        np.random.shuffle(new_am_batch)\n",
    "        np.random.shuffle(new_images_batch)\n",
    "        np.random.shuffle(new_ieta_batch)\n",
    "        np.random.shuffle(new_iphi_batch)\n",
    "        np.random.shuffle(new_apt_batch)\n",
    "        # plt.hist(np.concatenate(new_am_batch), bins=np.arange(-1.2,1.3,0.4))\n",
    "        # plt.show()\n",
    "        end_idx = start_idx + len(new_images_batch)\n",
    "        # print(\"end_idx\", end_idx)\n",
    "        # print(\"len(am_batch)\", am_batch.shape)\n",
    "        for name, dataset in datasets.items():\n",
    "            dataset.resize((end_idx,13, 125, 125) if 'all_jet' in name else (end_idx,1))\n",
    "\n",
    "        proper_data['all_jet'][start_idx:end_idx,:,:,:] = new_images_batch\n",
    "        proper_data['am'][start_idx:end_idx] = new_am_batch\n",
    "        proper_data['ieta'][start_idx:end_idx] = new_ieta_batch.reshape(-1, 1)\n",
    "        proper_data['iphi'][start_idx:end_idx] = new_iphi_batch.reshape(-1, 1)\n",
    "        proper_data['apt'][start_idx:end_idx] = new_apt_batch.reshape(-1, 1)\n",
    "\n",
    "        start_idx = end_idx\n",
    "\n",
    "        # print(\"_____________________________________________________________\")\n",
    "    print(\"original number of am  --> \", orig_num_am)\n",
    "data.close()"
   ]
  },
  {
   "cell_type": "code",
   "execution_count": 19,
   "id": "725fd4fc-462d-4d04-b510-a33fd4050e49",
   "metadata": {
    "tags": []
   },
   "outputs": [
    {
     "name": "stdout",
     "output_type": "stream",
     "text": [
      "966\n"
     ]
    },
    {
     "data": {
      "image/png": "[encoded data removed]",
      "text/plain": [
       "<Figure size 640x480 with 1 Axes>"
      ]
     },
     "metadata": {},
     "output_type": "display_data"
    }
   ],
   "source": [
    "infile_new ='IMG_aToTauTau_Hadronic_m1p2To18_pt30T0300_unbiased_train_normalized_unphysica_negative_mass.h5'\n",
    "data = h5py.File(f'{infile_new}', 'r')\n",
    "num_images = data[\"all_jet\"].shape[0]\n",
    "print(num_images)\n",
    "import matplotlib.pyplot as plt\n",
    "mass = data[\"am\"][:]\n",
    "plt.hist(mass, bins=np.arange(-1.2,1.3,0.4))\n",
    "plt.show()"
   ]
  },
  {
   "cell_type": "code",
   "execution_count": null,
   "id": "224289bc-5cba-4ae7-bc55-d419faca1385",
   "metadata": {},
   "outputs": [],
   "source": []
  }
 ],
 "metadata": {
  "kernelspec": {
   "display_name": "NERSC Python",
   "language": "python",
   "name": "python3"
  },
  "language_info": {
   "codemirror_mode": {
    "name": "ipython",
    "version": 3
   },
   "file_extension": ".py",
   "mimetype": "text/x-python",
   "name": "python",
   "nbconvert_exporter": "python",
   "pygments_lexer": "ipython3",
   "version": "3.11.7"
  }
 },
 "nbformat": 4,
 "nbformat_minor": 5
}
