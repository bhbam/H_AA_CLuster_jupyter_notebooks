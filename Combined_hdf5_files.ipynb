{
 "cells": [
  {
   "cell_type": "code",
   "execution_count": 45,
   "id": "a24281e6-3e5b-4743-82a9-20212b01dbed",
   "metadata": {
    "tags": []
   },
   "outputs": [],
   "source": [
    "import h5py\n",
    "import os\n",
    "import glob"
   ]
  },
  {
   "cell_type": "code",
   "execution_count": 50,
   "id": "f19c2f3e-00ac-42ef-8c15-0dd6274a6ac1",
   "metadata": {
    "tags": []
   },
   "outputs": [],
   "source": [
    "\n",
    "def combine_h5_files(master_folder, dest_file):\n",
    "    source_files = [os.path.join(master_folder, f) for f in os.listdir(master_folder) if f.endswith('.h5')]\n",
    "    # source_files = glob.glob(f'{master_folder}/*/*')\n",
    "\n",
    "    with h5py.File(dest_file, 'w') as h5_dest:\n",
    "        initialized_datasets = {}\n",
    "        for file_name in source_files:\n",
    "            with h5py.File(file_name, 'r') as h5_source:\n",
    "                copy_datasets(h5_source, h5_dest, initialized_datasets)\n",
    "\n",
    "def copy_datasets(source, dest, initialized_datasets):\n",
    "    for name, item in source.items():\n",
    "        if isinstance(item, h5py.Dataset):\n",
    "            if name not in initialized_datasets:\n",
    "                dest.create_dataset(\n",
    "                    name,\n",
    "                    shape=item.shape,\n",
    "                    dtype=item.dtype,\n",
    "                    compression='lzf',\n",
    "                    chunks=item.chunks\n",
    "                )\n",
    "                initialized_datasets[name] = dest[name]\n",
    "\n",
    "            dest_dataset = initialized_datasets[name]\n",
    "            dest_dataset.resize((dest_dataset.shape[0] + item.shape[0]), axis=0)\n",
    "            dest_dataset[-item.shape[0]:] = item[:]"
   ]
  },
  {
   "cell_type": "code",
   "execution_count": 51,
   "id": "af248cfb-d013-47cc-bd29-6cc1c0a34213",
   "metadata": {
    "tags": []
   },
   "outputs": [
    {
     "ename": "RuntimeError",
     "evalue": "Unable to synchronously change a dataset's dimensions (dimension cannot exceed the existing maximal size (new: 134618 max: 67309))",
     "output_type": "error",
     "traceback": [
      "\u001b[0;31m---------------------------------------------------------------------------\u001b[0m",
      "\u001b[0;31mRuntimeError\u001b[0m                              Traceback (most recent call last)",
      "Cell \u001b[0;32mIn[51], line 5\u001b[0m\n\u001b[1;32m      2\u001b[0m master_folder \u001b[38;5;241m=\u001b[39m\u001b[38;5;124m'\u001b[39m\u001b[38;5;124m/pscratch/sd/b/bbbam/IMG_aToTauTau_Hadronic_tauDR0p4_normalised_valid\u001b[39m\u001b[38;5;124m'\u001b[39m\n\u001b[1;32m      3\u001b[0m dest_file \u001b[38;5;241m=\u001b[39m \u001b[38;5;124m'\u001b[39m\u001b[38;5;124m/pscratch/sd/b/bbbam/IMG_aToTauTau_Hadronic_tauDR0p4_normalised_combined_valid.h5\u001b[39m\u001b[38;5;124m'\u001b[39m\n\u001b[0;32m----> 5\u001b[0m \u001b[43mcombine_h5_files\u001b[49m\u001b[43m(\u001b[49m\u001b[43mmaster_folder\u001b[49m\u001b[43m,\u001b[49m\u001b[43m \u001b[49m\u001b[43mdest_file\u001b[49m\u001b[43m)\u001b[49m\n",
      "Cell \u001b[0;32mIn[50], line 9\u001b[0m, in \u001b[0;36mcombine_h5_files\u001b[0;34m(master_folder, dest_file)\u001b[0m\n\u001b[1;32m      7\u001b[0m \u001b[38;5;28;01mfor\u001b[39;00m file_name \u001b[38;5;129;01min\u001b[39;00m source_files:\n\u001b[1;32m      8\u001b[0m     \u001b[38;5;28;01mwith\u001b[39;00m h5py\u001b[38;5;241m.\u001b[39mFile(file_name, \u001b[38;5;124m'\u001b[39m\u001b[38;5;124mr\u001b[39m\u001b[38;5;124m'\u001b[39m) \u001b[38;5;28;01mas\u001b[39;00m h5_source:\n\u001b[0;32m----> 9\u001b[0m         \u001b[43mcopy_datasets\u001b[49m\u001b[43m(\u001b[49m\u001b[43mh5_source\u001b[49m\u001b[43m,\u001b[49m\u001b[43m \u001b[49m\u001b[43mh5_dest\u001b[49m\u001b[43m,\u001b[49m\u001b[43m \u001b[49m\u001b[43minitialized_datasets\u001b[49m\u001b[43m)\u001b[49m\n",
      "Cell \u001b[0;32mIn[50], line 25\u001b[0m, in \u001b[0;36mcopy_datasets\u001b[0;34m(source, dest, initialized_datasets)\u001b[0m\n\u001b[1;32m     22\u001b[0m     initialized_datasets[name] \u001b[38;5;241m=\u001b[39m dest[name]\n\u001b[1;32m     24\u001b[0m dest_dataset \u001b[38;5;241m=\u001b[39m initialized_datasets[name]\n\u001b[0;32m---> 25\u001b[0m \u001b[43mdest_dataset\u001b[49m\u001b[38;5;241;43m.\u001b[39;49m\u001b[43mresize\u001b[49m\u001b[43m(\u001b[49m\u001b[43m(\u001b[49m\u001b[43mdest_dataset\u001b[49m\u001b[38;5;241;43m.\u001b[39;49m\u001b[43mshape\u001b[49m\u001b[43m[\u001b[49m\u001b[38;5;241;43m0\u001b[39;49m\u001b[43m]\u001b[49m\u001b[43m \u001b[49m\u001b[38;5;241;43m+\u001b[39;49m\u001b[43m \u001b[49m\u001b[43mitem\u001b[49m\u001b[38;5;241;43m.\u001b[39;49m\u001b[43mshape\u001b[49m\u001b[43m[\u001b[49m\u001b[38;5;241;43m0\u001b[39;49m\u001b[43m]\u001b[49m\u001b[43m)\u001b[49m\u001b[43m,\u001b[49m\u001b[43m \u001b[49m\u001b[43maxis\u001b[49m\u001b[38;5;241;43m=\u001b[39;49m\u001b[38;5;241;43m0\u001b[39;49m\u001b[43m)\u001b[49m\n\u001b[1;32m     26\u001b[0m dest_dataset[\u001b[38;5;241m-\u001b[39mitem\u001b[38;5;241m.\u001b[39mshape[\u001b[38;5;241m0\u001b[39m]:] \u001b[38;5;241m=\u001b[39m item[:]\n",
      "File \u001b[0;32m/global/common/software/nersc/pe/conda-envs/24.1.0/python-3.11/nersc-python/lib/python3.11/site-packages/h5py/_hl/dataset.py:679\u001b[0m, in \u001b[0;36mDataset.resize\u001b[0;34m(self, size, axis)\u001b[0m\n\u001b[1;32m    676\u001b[0m     size[axis] \u001b[38;5;241m=\u001b[39m newlen\n\u001b[1;32m    678\u001b[0m size \u001b[38;5;241m=\u001b[39m \u001b[38;5;28mtuple\u001b[39m(size)\n\u001b[0;32m--> 679\u001b[0m \u001b[38;5;28;43mself\u001b[39;49m\u001b[38;5;241;43m.\u001b[39;49m\u001b[43mid\u001b[49m\u001b[38;5;241;43m.\u001b[39;49m\u001b[43mset_extent\u001b[49m\u001b[43m(\u001b[49m\u001b[43msize\u001b[49m\u001b[43m)\u001b[49m\n",
      "File \u001b[0;32mh5py/_objects.pyx:54\u001b[0m, in \u001b[0;36mh5py._objects.with_phil.wrapper\u001b[0;34m()\u001b[0m\n",
      "File \u001b[0;32mh5py/_objects.pyx:55\u001b[0m, in \u001b[0;36mh5py._objects.with_phil.wrapper\u001b[0;34m()\u001b[0m\n",
      "File \u001b[0;32mh5py/h5d.pyx:335\u001b[0m, in \u001b[0;36mh5py.h5d.DatasetID.set_extent\u001b[0;34m()\u001b[0m\n",
      "\u001b[0;31mRuntimeError\u001b[0m: Unable to synchronously change a dataset's dimensions (dimension cannot exceed the existing maximal size (new: 134618 max: 67309))"
     ]
    }
   ],
   "source": [
    "# Specify the master folder path and the destination file\n",
    "master_folder ='/pscratch/sd/b/bbbam/IMG_aToTauTau_Hadronic_tauDR0p4_normalised_valid'\n",
    "dest_file = '/pscratch/sd/b/bbbam/IMG_aToTauTau_Hadronic_tauDR0p4_normalised_combined_valid.h5'\n",
    "\n",
    "combine_h5_files(master_folder, dest_file)"
   ]
  },
  {
   "cell_type": "code",
   "execution_count": 48,
   "id": "3a0f6f51-0c41-4e54-bfcc-77095f5873de",
   "metadata": {
    "tags": []
   },
   "outputs": [],
   "source": [
    "source_files = [os.path.join(master_folder, f) for f in os.listdir(master_folder) if f.endswith('.h5')]"
   ]
  },
  {
   "cell_type": "code",
   "execution_count": 49,
   "id": "96a5683a-4b30-4319-b25d-f4f5ea85d3e3",
   "metadata": {
    "tags": []
   },
   "outputs": [
    {
     "data": {
      "text/plain": [
       "['/pscratch/sd/b/bbbam/IMG_aToTauTau_Hadronic_tauDR0p4_normalised_valid/IMG_aToTauTau_Hadronic_tauDR0p4_m14p8To17p2_dataset_2_unbaised_v2_0009_normalized_train.h5',\n",
       " '/pscratch/sd/b/bbbam/IMG_aToTauTau_Hadronic_tauDR0p4_normalised_valid/IMG_aToTauTau_Hadronic_tauDR0p4_m1p2To3p6_dataset_2_unbaised_v2_0009_normalized_train.h5',\n",
       " '/pscratch/sd/b/bbbam/IMG_aToTauTau_Hadronic_tauDR0p4_normalised_valid/IMG_aToTauTau_Hadronic_tauDR0p4_m3p6To14p8_dataset_2_unbaised_v2_0009_normalized_train.h5']"
      ]
     },
     "execution_count": 49,
     "metadata": {},
     "output_type": "execute_result"
    }
   ],
   "source": [
    "source_files"
   ]
  },
  {
   "cell_type": "code",
   "execution_count": null,
   "id": "867d2842-b0ea-4414-9dae-ff9b51641054",
   "metadata": {},
   "outputs": [],
   "source": []
  }
 ],
 "metadata": {
  "kernelspec": {
   "display_name": "NERSC Python",
   "language": "python",
   "name": "python3"
  },
  "language_info": {
   "codemirror_mode": {
    "name": "ipython",
    "version": 3
   },
   "file_extension": ".py",
   "mimetype": "text/x-python",
   "name": "python",
   "nbconvert_exporter": "python",
   "pygments_lexer": "ipython3",
   "version": "3.11.7"
  }
 },
 "nbformat": 4,
 "nbformat_minor": 5
}
