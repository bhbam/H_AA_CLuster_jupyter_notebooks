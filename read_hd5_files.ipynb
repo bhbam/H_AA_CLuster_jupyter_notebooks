{
 "cells": [
  {
   "cell_type": "code",
   "execution_count": 5,
   "id": "45dca3e3-3ef2-47ad-8815-8d793eb66edd",
   "metadata": {
    "tags": []
   },
   "outputs": [
    {
     "data": {
      "text/plain": [
       "['/pscratch/sd/b/bbbam/IMG_aToTauTau_Hadronic_tauDR0p4_m1p2To3p6_dataset_2_unbaised_v2_train_hd5/IMG_aToTauTau_Hadronic_tauDR0p4_m1p2To3p6_dataset_2_unbaised_unphysical_0008_train.h5',\n",
       " '/pscratch/sd/b/bbbam/IMG_aToTauTau_Hadronic_tauDR0p4_m1p2To3p6_dataset_2_unbaised_v2_train_hd5/IMG_aToTauTau_Hadronic_tauDR0p4_m1p2To3p6_dataset_2_unbaised_unphysical_0007_train.h5',\n",
       " '/pscratch/sd/b/bbbam/IMG_aToTauTau_Hadronic_tauDR0p4_m1p2To3p6_dataset_2_unbaised_v2_train_hd5/IMG_aToTauTau_Hadronic_tauDR0p4_m1p2To3p6_dataset_2_unbaised_unphysical_0004_train.h5',\n",
       " '/pscratch/sd/b/bbbam/IMG_aToTauTau_Hadronic_tauDR0p4_m1p2To3p6_dataset_2_unbaised_v2_train_hd5/IMG_aToTauTau_Hadronic_tauDR0p4_m1p2To3p6_dataset_2_unbaised_unphysical_0005_train.h5',\n",
       " '/pscratch/sd/b/bbbam/IMG_aToTauTau_Hadronic_tauDR0p4_m1p2To3p6_dataset_2_unbaised_v2_train_hd5/IMG_aToTauTau_Hadronic_tauDR0p4_m1p2To3p6_dataset_2_unbaised_unphysical_0006_train.h5',\n",
       " '/pscratch/sd/b/bbbam/IMG_aToTauTau_Hadronic_tauDR0p4_m1p2To3p6_dataset_2_unbaised_v2_train_hd5/IMG_aToTauTau_Hadronic_tauDR0p4_m1p2To3p6_dataset_2_unbaised_unphysical_0000_train.h5',\n",
       " '/pscratch/sd/b/bbbam/IMG_aToTauTau_Hadronic_tauDR0p4_m1p2To3p6_dataset_2_unbaised_v2_train_hd5/IMG_aToTauTau_Hadronic_tauDR0p4_m1p2To3p6_dataset_2_unbaised_unphysical_0009_train.h5',\n",
       " '/pscratch/sd/b/bbbam/IMG_aToTauTau_Hadronic_tauDR0p4_m1p2To3p6_dataset_2_unbaised_v2_train_hd5/IMG_aToTauTau_Hadronic_tauDR0p4_m1p2To3p6_dataset_2_unbaised_unphysical_0002_train.h5',\n",
       " '/pscratch/sd/b/bbbam/IMG_aToTauTau_Hadronic_tauDR0p4_m1p2To3p6_dataset_2_unbaised_v2_train_hd5/IMG_aToTauTau_Hadronic_tauDR0p4_m1p2To3p6_dataset_2_unbaised_unphysical_0003_train.h5',\n",
       " '/pscratch/sd/b/bbbam/IMG_aToTauTau_Hadronic_tauDR0p4_m1p2To3p6_dataset_2_unbaised_v2_train_hd5/IMG_aToTauTau_Hadronic_tauDR0p4_m1p2To3p6_dataset_2_unbaised_unphysical_0001_train.h5']"
      ]
     },
     "execution_count": 5,
     "metadata": {},
     "output_type": "execute_result"
    }
   ],
   "source": [
    "import glob\n",
    "import os\n",
    "import shutil\n",
    "import random\n",
    "import json\n",
    "import pyarrow.parquet as pq\n",
    "import numpy as np\n",
    "import h5py\n",
    "import math\n",
    "import argparse\n",
    "from tqdm import tqdm\n",
    "\n",
    "infile_list =glob.glob(\"/pscratch/sd/b/bbbam/IMG_aToTauTau_Hadronic_tauDR0p4_m1p2To3p6_dataset_2_unbaised_v2_train_hd5/*\")\n",
    "infile_list"
   ]
  },
  {
   "cell_type": "code",
   "execution_count": 6,
   "id": "345c23ca-5e20-4a33-8029-2c52355b4928",
   "metadata": {
    "tags": []
   },
   "outputs": [
    {
     "name": "stdout",
     "output_type": "stream",
     "text": [
      "____________________________________________________________________________________________\n",
      "/pscratch/sd/b/bbbam/IMG_aToTauTau_Hadronic_tauDR0p4_m1p2To3p6_dataset_2_unbaised_v2_train_hd5/IMG_aToTauTau_Hadronic_tauDR0p4_m1p2To3p6_dataset_2_unbaised_unphysical_0008_train.h5\n",
      "keys-- <KeysViewHDF5 ['all_jet', 'am', 'ieta', 'iphi', 'm0']>\n",
      "all_jet shape:  (89918, 13, 125, 125)\n",
      "am shape:  (89918, 1)\n",
      "m0 shape:  (89918, 1)\n",
      "ieta shape:   (89918, 1)\n",
      "am    : [2.3079932] [3.265242] [3.265242]\n",
      "ieta  : [30.] [13.] [42.]\n",
      "iphi  : [23.] [56.] [20.]\n",
      "m0    : [12.797449] [12.346928] [12.761527]\n",
      "____________________________________________________________________________________________\n",
      "/pscratch/sd/b/bbbam/IMG_aToTauTau_Hadronic_tauDR0p4_m1p2To3p6_dataset_2_unbaised_v2_train_hd5/IMG_aToTauTau_Hadronic_tauDR0p4_m1p2To3p6_dataset_2_unbaised_unphysical_0007_train.h5\n",
      "keys-- <KeysViewHDF5 ['all_jet', 'am', 'ieta', 'iphi', 'm0']>\n",
      "all_jet shape:  (89914, 13, 125, 125)\n",
      "am shape:  (89914, 1)\n",
      "m0 shape:  (89914, 1)\n",
      "ieta shape:   (89914, 1)\n",
      "am    : [3.282876] [2.5272582] [2.5272582]\n",
      "ieta  : [13.] [39.] [16.]\n",
      "iphi  : [6.] [26.] [62.]\n",
      "m0    : [8.095078] [18.163029] [14.677128]\n",
      "____________________________________________________________________________________________\n",
      "/pscratch/sd/b/bbbam/IMG_aToTauTau_Hadronic_tauDR0p4_m1p2To3p6_dataset_2_unbaised_v2_train_hd5/IMG_aToTauTau_Hadronic_tauDR0p4_m1p2To3p6_dataset_2_unbaised_unphysical_0004_train.h5\n",
      "keys-- <KeysViewHDF5 ['all_jet', 'am', 'ieta', 'iphi', 'm0']>\n",
      "all_jet shape:  (89917, 13, 125, 125)\n",
      "am shape:  (89917, 1)\n",
      "m0 shape:  (89917, 1)\n",
      "ieta shape:   (89917, 1)\n",
      "am    : [2.5476022] [3.4056292] [3.4056292]\n",
      "ieta  : [35.] [36.] [19.]\n",
      "iphi  : [1.] [21.] [58.]\n",
      "m0    : [11.591859] [18.924557] [13.683374]\n",
      "____________________________________________________________________________________________\n",
      "/pscratch/sd/b/bbbam/IMG_aToTauTau_Hadronic_tauDR0p4_m1p2To3p6_dataset_2_unbaised_v2_train_hd5/IMG_aToTauTau_Hadronic_tauDR0p4_m1p2To3p6_dataset_2_unbaised_unphysical_0005_train.h5\n",
      "keys-- <KeysViewHDF5 ['all_jet', 'am', 'ieta', 'iphi', 'm0']>\n",
      "all_jet shape:  (91885, 13, 125, 125)\n",
      "am shape:  (91885, 1)\n",
      "m0 shape:  (91885, 1)\n",
      "ieta shape:   (91885, 1)\n",
      "am    : [2.941621] [1.8804023] [1.8804023]\n",
      "ieta  : [18.] [20.] [35.]\n",
      "iphi  : [21.] [49.] [13.]\n",
      "m0    : [12.75331] [15.039406] [12.482264]\n",
      "____________________________________________________________________________________________\n",
      "/pscratch/sd/b/bbbam/IMG_aToTauTau_Hadronic_tauDR0p4_m1p2To3p6_dataset_2_unbaised_v2_train_hd5/IMG_aToTauTau_Hadronic_tauDR0p4_m1p2To3p6_dataset_2_unbaised_unphysical_0006_train.h5\n",
      "keys-- <KeysViewHDF5 ['all_jet', 'am', 'ieta', 'iphi', 'm0']>\n",
      "all_jet shape:  (93873, 13, 125, 125)\n",
      "am shape:  (93873, 1)\n",
      "m0 shape:  (93873, 1)\n",
      "ieta shape:   (93873, 1)\n",
      "am    : [2.7992573] [2.5500407] [2.5500407]\n",
      "ieta  : [16.] [42.] [13.]\n",
      "iphi  : [18.] [57.] [22.]\n",
      "m0    : [5.9048395] [13.274021] [5.0130386]\n",
      "____________________________________________________________________________________________\n",
      "/pscratch/sd/b/bbbam/IMG_aToTauTau_Hadronic_tauDR0p4_m1p2To3p6_dataset_2_unbaised_v2_train_hd5/IMG_aToTauTau_Hadronic_tauDR0p4_m1p2To3p6_dataset_2_unbaised_unphysical_0000_train.h5\n",
      "keys-- <KeysViewHDF5 ['all_jet', 'am', 'ieta', 'iphi', 'm0']>\n",
      "all_jet shape:  (92081, 13, 125, 125)\n",
      "am shape:  (92081, 1)\n",
      "m0 shape:  (92081, 1)\n",
      "ieta shape:   (92081, 1)\n",
      "am    : [1.7026336] [2.3343406] [2.3343406]\n",
      "ieta  : [33.] [29.] [26.]\n",
      "iphi  : [34.] [46.] [10.]\n",
      "m0    : [20.479483] [15.335101] [15.521441]\n",
      "____________________________________________________________________________________________\n",
      "/pscratch/sd/b/bbbam/IMG_aToTauTau_Hadronic_tauDR0p4_m1p2To3p6_dataset_2_unbaised_v2_train_hd5/IMG_aToTauTau_Hadronic_tauDR0p4_m1p2To3p6_dataset_2_unbaised_unphysical_0009_train.h5\n",
      "keys-- <KeysViewHDF5 ['all_jet', 'am', 'ieta', 'iphi', 'm0']>\n",
      "all_jet shape:  (92426, 13, 125, 125)\n",
      "am shape:  (92426, 1)\n",
      "m0 shape:  (92426, 1)\n",
      "ieta shape:   (92426, 1)\n",
      "am    : [3.5771255] [2.9104562] [2.9104562]\n",
      "ieta  : [42.] [22.] [33.]\n",
      "iphi  : [29.] [69.] [33.]\n",
      "m0    : [10.481977] [7.9671307] [10.449738]\n",
      "____________________________________________________________________________________________\n",
      "/pscratch/sd/b/bbbam/IMG_aToTauTau_Hadronic_tauDR0p4_m1p2To3p6_dataset_2_unbaised_v2_train_hd5/IMG_aToTauTau_Hadronic_tauDR0p4_m1p2To3p6_dataset_2_unbaised_unphysical_0002_train.h5\n",
      "keys-- <KeysViewHDF5 ['all_jet', 'am', 'ieta', 'iphi', 'm0']>\n",
      "all_jet shape:  (91885, 13, 125, 125)\n",
      "am shape:  (91885, 1)\n",
      "m0 shape:  (91885, 1)\n",
      "ieta shape:   (91885, 1)\n",
      "am    : [1.4912586] [2.3209245] [2.3209245]\n",
      "ieta  : [22.] [34.] [21.]\n",
      "iphi  : [7.] [35.] [0.]\n",
      "m0    : [20.233057] [13.783364] [12.75187]\n",
      "____________________________________________________________________________________________\n",
      "/pscratch/sd/b/bbbam/IMG_aToTauTau_Hadronic_tauDR0p4_m1p2To3p6_dataset_2_unbaised_v2_train_hd5/IMG_aToTauTau_Hadronic_tauDR0p4_m1p2To3p6_dataset_2_unbaised_unphysical_0003_train.h5\n",
      "keys-- <KeysViewHDF5 ['all_jet', 'am', 'ieta', 'iphi', 'm0']>\n",
      "all_jet shape:  (89925, 13, 125, 125)\n",
      "am shape:  (89925, 1)\n",
      "m0 shape:  (89925, 1)\n",
      "ieta shape:   (89925, 1)\n",
      "am    : [2.4340856] [2.287975] [2.287975]\n",
      "ieta  : [30.] [21.] [33.]\n",
      "iphi  : [5.] [24.] [61.]\n",
      "m0    : [10.55621] [12.80305] [19.350544]\n",
      "____________________________________________________________________________________________\n",
      "/pscratch/sd/b/bbbam/IMG_aToTauTau_Hadronic_tauDR0p4_m1p2To3p6_dataset_2_unbaised_v2_train_hd5/IMG_aToTauTau_Hadronic_tauDR0p4_m1p2To3p6_dataset_2_unbaised_unphysical_0001_train.h5\n",
      "keys-- <KeysViewHDF5 ['all_jet', 'am', 'ieta', 'iphi', 'm0']>\n",
      "all_jet shape:  (89916, 13, 125, 125)\n",
      "am shape:  (89916, 1)\n",
      "m0 shape:  (89916, 1)\n",
      "ieta shape:   (89916, 1)\n",
      "am    : [2.8629353] [1.2487284] [1.2487284]\n",
      "ieta  : [13.] [42.] [13.]\n",
      "iphi  : [53.] [61.] [25.]\n",
      "m0    : [15.8516245] [16.210585] [12.771933]\n"
     ]
    }
   ],
   "source": [
    "\n",
    "for i in range(len(infile_list)):\n",
    "    infile = infile_list[i]\n",
    "    print(\"____________________________________________________________________________________________\")\n",
    "    print( infile_list[i])\n",
    "\n",
    "    try:\n",
    "        data = h5py.File(infile, 'r')\n",
    "        print(\"keys--\", data.keys())\n",
    "        print(\"all_jet shape: \", data[\"all_jet\"].shape)\n",
    "        print(\"am shape: \", data[\"am\"].shape)\n",
    "        print(\"m0 shape: \", data[\"m0\"].shape)\n",
    "        print(\"ieta shape:  \", data[\"ieta\"].shape)\n",
    "\n",
    "        am_1 = data[\"am\"][-1,:]\n",
    "        ieta_1 = data[\"ieta\"][-1,:]\n",
    "        iphi_1 = data[\"iphi\"][-1,:]\n",
    "        m0_1 = data[\"m0\"][-1,:]\n",
    "\n",
    "        am_2 = data[\"am\"][-2,:]\n",
    "        ieta_2 = data[\"ieta\"][-2,:]\n",
    "        iphi_2 = data[\"iphi\"][-2,:]\n",
    "        m0_2 = data[\"m0\"][-2,:]\n",
    "\n",
    "        am_0 = data[\"am\"][0,:]\n",
    "        ieta_0 = data[\"ieta\"][0,:]\n",
    "        iphi_0 = data[\"iphi\"][0,:]\n",
    "        m0_0 = data[\"m0\"][0,:]\n",
    "\n",
    "        print(\"am    :\", am_0, am_2, am_1)\n",
    "        print(\"ieta  :\", ieta_0, ieta_2, ieta_1)\n",
    "        print(\"iphi  :\", iphi_0, iphi_2, iphi_1)\n",
    "        print(\"m0    :\", m0_0, m0_2, m0_1)\n",
    "    except:\n",
    "        print(f\"incomplite file--{infile_list[i]}\")\n",
    "# for i in range(len(data[\"all_jet\"])):\n",
    "#     im = data[\"all_jet\"][i,:,:,:]\n",
    "#     am = data[\"am\"][i,:]\n",
    "#     ieta = data[\"ieta\"][i,:]\n",
    "#     iphi = data[\"iphi\"][i,:]\n",
    "#     m0 = data[\"m0\"][i,:]\n",
    "#     print(\"am    :\", am)\n",
    "#     print(\"ieta  :\", ieta)\n",
    "#     print(\"iphi  :\", iphi)\n",
    "#     print(\"m0    :\", m0)\n",
    "#     print(\"im.shape    \", im.shape)\n",
    "#     # am = data[\"am\"][i,:]\n",
    "#     # print(\"am. \",am,\"   ieta.  \", data[\"ieta\"][i,:])\n",
    "#     if i >15: break\n",
    "\n"
   ]
  },
  {
   "cell_type": "code",
   "execution_count": 6,
   "id": "1bccf18b-b955-4f85-bae0-4eb4aee9bdc1",
   "metadata": {},
   "outputs": [
    {
     "name": "stdout",
     "output_type": "stream",
     "text": [
      "keys-- <KeysViewHDF5 ['all_jet', 'am', 'ieta', 'iphi', 'm0']>\n",
      "all_jet shape:  (7, 13, 125, 125)\n",
      "am shape:  (7, 1)\n",
      "m0 shape:  (7, 1)\n",
      "ieta shape:   (7, 1)\n",
      "am    : [11.139276] [4.414116] [4.414116]\n",
      "ieta  : [32.] [37.] [19.]\n",
      "iphi  : [11.] [31.] [68.]\n",
      "m0    : [17.757484] [14.596156] [11.32987]\n"
     ]
    }
   ],
   "source": [
    "import os\n",
    "import shutil\n",
    "import random\n",
    "import json\n",
    "import pyarrow.parquet as pq\n",
    "import numpy as np\n",
    "import h5py\n",
    "import math\n",
    "infile = 'normalized_dataset.h5'\n",
    "data = h5py.File(infile, 'r')\n",
    "print(\"keys--\", data.keys())\n",
    "print(\"all_jet shape: \", data[\"all_jet\"].shape)\n",
    "print(\"am shape: \", data[\"am\"].shape)\n",
    "print(\"m0 shape: \", data[\"m0\"].shape)\n",
    "print(\"ieta shape:  \", data[\"ieta\"].shape)\n",
    "\n",
    "am_1 = data[\"am\"][-1,:]\n",
    "ieta_1 = data[\"ieta\"][-1,:]\n",
    "iphi_1 = data[\"iphi\"][-1,:]\n",
    "m0_1 = data[\"m0\"][-1,:]\n",
    "\n",
    "am_2 = data[\"am\"][-2,:]\n",
    "ieta_2 = data[\"ieta\"][-2,:]\n",
    "iphi_2 = data[\"iphi\"][-2,:]\n",
    "m0_2 = data[\"m0\"][-2,:]\n",
    "\n",
    "am_0 = data[\"am\"][0,:]\n",
    "ieta_0 = data[\"ieta\"][0,:]\n",
    "iphi_0 = data[\"iphi\"][0,:]\n",
    "m0_0 = data[\"m0\"][0,:]\n",
    "\n",
    "print(\"am    :\", am_0, am_2, am_1)\n",
    "print(\"ieta  :\", ieta_0, ieta_2, ieta_1)\n",
    "print(\"iphi  :\", iphi_0, iphi_2, iphi_1)\n",
    "print(\"m0    :\", m0_0, m0_2, m0_1)"
   ]
  },
  {
   "cell_type": "code",
   "execution_count": null,
   "id": "a2a3827f-d58c-408b-9dd6-cb506abb7f0f",
   "metadata": {},
   "outputs": [],
   "source": []
  },
  {
   "cell_type": "code",
   "execution_count": 10,
   "id": "6c8264f8-7199-409c-acc6-9e6fdf5bb014",
   "metadata": {
    "tags": []
   },
   "outputs": [],
   "source": [
    "def estimate_population_parameters(all_sample_sizes, all_sample_means, all_sample_stds):\n",
    "    population_means = []\n",
    "    population_stds = []\n",
    "    for j in range(len(all_sample_means)):\n",
    "        sample_means = all_sample_means[j]\n",
    "        sample_stds = all_sample_stds[j]\n",
    "        sample_sizes = all_sample_sizes[j]\n",
    "        sample_means = sample_means[sample_sizes != 0]\n",
    "        sample_stds = sample_stds[sample_sizes != 0]\n",
    "        sample_sizes = sample_sizes[sample_sizes != 0]\n",
    "        weighted_sum_of_variances = sum((n - 1) * s**2 for n, s in zip(sample_sizes, sample_stds))\n",
    "        total_degrees_of_freedom = sum(n - 1 for n in sample_sizes)\n",
    "        combined_variance = weighted_sum_of_variances / total_degrees_of_freedom\n",
    "        population_std = np.sqrt(combined_variance)\n",
    "        weighted_sum_of_means = sum(n * mean for n, mean in zip(sample_sizes, sample_means))\n",
    "        total_observations = sum(sample_sizes)\n",
    "        population_mean = weighted_sum_of_means / total_observations\n",
    "        population_stds.append(population_std)\n",
    "        population_means.append(population_mean)\n",
    "\n",
    "    return population_means, population_stds"
   ]
  },
  {
   "cell_type": "code",
   "execution_count": 11,
   "id": "047a135e-bb05-4ba3-9ca4-3e780e8453f5",
   "metadata": {
    "tags": []
   },
   "outputs": [
    {
     "name": "stdout",
     "output_type": "stream",
     "text": [
      "[1.2383063814392201, 1.2172563791126605, 1.2051137514115549, 1.2410155687060642, 1.216591205255463, 1.2153219103086137, 1.2043396152293215, 1.238644943707409, 1.2335333453438022, 1.2040546779789316, 1.1721106299896389, 1.228146596938084, 1.1698616464959393, 1.2659119416008107, 1.2141164783417966, 1.2293251011704436, 1.2225853286588868, 1.2723087333978396, 1.2194551531516011, 1.182494695235423, 1.2222233827102456, 1.1748633015796004, 1.201661246179904, 1.1998497210028105, 1.2004275930240984, 1.2229624265946004, 1.212048976387797, 1.1648055505273593, 1.1957367846405307, 1.1914816340275571, 1.2074116209855241, 1.2023210754705054, 1.1986178376654435, 1.22345290038584, 1.2188108820052035, 1.2618530062646354, 1.2020992520656568, 1.2525784633789672, 1.2147204871765036, 1.218992970709429, 1.210776004256497, 1.2114808751831327, 1.197786803901477, 1.238655220833369, 1.2158888509124128, 1.2527160965411512, 1.2082349063934499, 1.2609236624492395, 1.238017965773736, 1.2108083040222102, 1.220588642286422, 1.2013014647994456, 1.209427722922666, 1.247157304131178, 1.2210693611179286, 1.288184975301372, 1.2541418280532401, 1.2326263532435724, 1.2334267571067514, 1.2062672848052416, 1.2168327699342387, 1.199563461223057, 1.2054780728998966, 1.1851645297882392, 1.2387811783185498, 1.2239418843244274, 1.233327882687783, 1.2290856327722361, 1.2074803089526236, 1.2279456300636935, 1.272292283368197, 1.2231345557034512, 1.2155832374703581, 1.228412899191265, 1.2005362166855844, 1.2037546113364932, 1.1899966796511914, 1.2175002056616975, 1.2243929544726935, 1.2170240353756037, 1.217843140991993, 1.2227998921787608, 1.217380281356564, 1.2072970724596879, 1.2428888703525747, 1.2106372958784057, 1.207235973990945, 1.2108828500690636, 1.2241112325667147, 1.1975674864647143, 1.2259788590849956, 1.2314297573351098, 1.256582289506368, 1.2335194939787217, 1.2487274242681201, 1.1879548904043546, 1.2080487036771084, 1.234528246703867, 1.2030948153401548, 1.2455311280477417, 1.2683276942554393, 1.234638035663351, 1.2157029590005883, 1.237696753601954, 1.2401080951661927, 1.240487670000548, 1.2198303876703396, 1.2763375714027625, 1.2753973425567007, 1.234358038364678, 1.2165894625173885, 1.2229490461797232, 1.2404357951437248, 1.2287878958118288, 1.209888224066661, 1.21464261230747, 1.2029980323027771, 1.236736630183852, 1.2602554522038756, 1.2092734826694849, 1.2148539963943994, 1.1918827590166137, 1.2577805503421562, 1.221738036961345, 1.2537080334507549, 1.2053422432786778, 1.2237717608960563, 1.225629566315086, 1.2333803526103386, 1.2513827386249297, 1.2342228774957151, 1.2410197559456608, 1.2587964700752259, 1.2620229684117192, 1.3249297203679231]\n",
      "[13.940832225876974, 13.81421322604104, 14.025436760392337, 13.81221481227794, 13.968540556675682, 13.918880678955153, 13.391219100023541, 14.298361131611777, 13.687520932704965, 13.310228852162277, 13.63865289633093, 13.675587928234046, 13.243660337369938, 13.882952612713973, 13.67223440827046, 13.908929505412607, 14.086625544955117, 14.150702594307502, 14.105321911016496, 13.294214110453689, 13.580151412819134, 13.514755420239956, 13.294841974144019, 13.622676560560713, 14.139518868699938, 13.392284016589258, 13.313525861185237, 13.363515565762086, 19.309544103634053, 13.372572777337453, 13.820415100464784, 16.045208969803912, 12.904072078211335, 13.652873417854718, 13.442028417911631, 14.27336265594515, 13.380997188733593, 14.466696896354177, 13.323972788235292, 13.667143320836534, 13.841404639108177, 13.536113855694994, 13.661845670212333, 13.72877280970947, 13.421679996355591, 14.930098344579227, 13.482702321034745, 203.23309216515224, 29.282924514868558, 13.558356635198775, 14.058875362048965, 13.205459428682675, 13.705942598933275, 13.906168086486279, 13.60843800846693, 14.137986781295856, 14.02951574667512, 13.875715407666075, 13.387130967179743, 13.687549564672842, 13.821380909694996, 13.341505101158575, 13.384401501026288, 13.160019089032069, 17.193100945131178, 13.445105457599812, 14.151509869100039, 13.991908973845629, 13.558064411281023, 14.819005196711021, 14.791380285406698, 13.790348501962255, 13.298124281512456, 14.23295267940977, 13.367894725371583, 13.305691337571622, 13.913163569226, 13.838633503093327, 13.796578416482006, 13.819684879756375, 13.53335964283542, 13.559534018547089, 13.333920009232362, 13.384482746433779, 14.66761532616852, 13.688451862842172, 13.40474357985192, 13.418694052799312, 13.63029637057244, 13.171466980923869, 13.969025851152303, 13.525147768381022, 14.218728087464555, 14.013362937819242, 13.919968369238472, 13.465797277809639, 13.292706375021602, 13.589324138825472, 13.363912825338929, 13.54412464876544, 13.965707299363341, 13.490958351967429, 13.153307815774095, 13.836409300762156, 13.552791352101433, 14.060173040834954, 13.901917087008549, 13.89908975412331, 13.837620560548043, 13.751684067075303, 13.918842732920385, 13.34284383839588, 13.61083888506712, 13.665772409712377, 13.36488207254705, 13.348865545435528, 12.990225686916776, 13.362363388064454, 13.671477742422653, 13.808538996892251, 13.204241729534642, 12.868183820101533, 13.589325586593114, 13.334612117948842, 14.185709177981492, 13.436472867914025, 13.009924006522109, 13.69034338047524, 13.438795054744388, 13.725319284429364, 12.965675416750914, 13.53308054579771, 13.606053650861456, 14.98159957060196, 16.02482731768494]\n"
     ]
    }
   ],
   "source": [
    "mean, std = estimate_population_parameters(size_,mean_,std_)\n",
    "print(mean)\n",
    "print(std)"
   ]
  },
  {
   "cell_type": "code",
   "execution_count": 24,
   "id": "e19acd64-d38c-49f9-96f9-efd3cbfbaffd",
   "metadata": {
    "tags": []
   },
   "outputs": [
    {
     "name": "stderr",
     "output_type": "stream",
     "text": [
      "  0%|          | 0/19162 [00:00<?, ?it/s]"
     ]
    },
    {
     "name": "stdout",
     "output_type": "stream",
     "text": [
      "am:   [[11.814976 ]\n",
      " [ 3.8403258]\n",
      " [ 3.8403258]\n",
      " [ 4.192693 ]\n",
      " [ 4.192693 ]\n",
      " [ 6.8143826]\n",
      " [ 6.8143826]\n",
      " [ 4.921721 ]\n",
      " [ 4.921721 ]\n",
      " [ 8.82692  ]]\n"
     ]
    },
    {
     "name": "stderr",
     "output_type": "stream",
     "text": [
      "\n"
     ]
    }
   ],
   "source": [
    "file =glob.glob('/pscratch/sd/b/bbbam/IMG_aToTauTau_Hadronic_tauDR0p4_m3p6To14p8_dataset_2_unbaised_v2_normalised_train_hd5/*')\n",
    "# for file_ in file:\n",
    "#     try:\n",
    "#         data = h5py.File(f'{file_}', 'r')\n",
    "#         print(file_)\n",
    "   \n",
    "#         num_images = data[\"all_jet\"].shape[0]\n",
    "#         # print(\"size \", num_images)\n",
    "#         data.close()\n",
    "#     except:\n",
    "#         print(\"bad file ------  \",file_)\n",
    "#     batch_size = 10\n",
    "#     print(\"Total_jets :\",num_images)\n",
    "file_ = file[0]\n",
    "data = h5py.File(f'{file_}', 'r')\n",
    "for start_idx in tqdm(range(0, num_images, 20)):\n",
    "    end_idx = min(start_idx + batch_size, num_images)\n",
    "    images_batch = data[\"all_jet\"][start_idx:end_idx, :, :, :]\n",
    "    am_batch = data[\"am\"][start_idx:end_idx, :]\n",
    "    ieta_batch = data[\"ieta\"][start_idx:end_idx, :]\n",
    "    iphi_batch = data[\"iphi\"][start_idx:end_idx, :]\n",
    "    m0_batch = data[\"m0\"][start_idx:end_idx, :]\n",
    "    print(\"am:  \",am_batch)\n",
    "    break"
   ]
  },
  {
   "cell_type": "code",
   "execution_count": 25,
   "id": "db6c4e1b-53e5-4840-ae90-ac508c6cebc0",
   "metadata": {},
   "outputs": [
    {
     "name": "stderr",
     "output_type": "stream",
     "text": [
      "  0%|          | 0/19162 [00:01<?, ?it/s]"
     ]
    },
    {
     "name": "stdout",
     "output_type": "stream",
     "text": [
      "am:   [[11.139276 ]\n",
      " [ 9.155471 ]\n",
      " [ 9.155471 ]\n",
      " [ 4.6136756]\n",
      " [ 4.6136756]\n",
      " [ 4.414116 ]\n",
      " [ 4.414116 ]\n",
      " [ 3.941725 ]\n",
      " [ 6.594563 ]\n",
      " [ 6.594563 ]]\n"
     ]
    },
    {
     "name": "stderr",
     "output_type": "stream",
     "text": [
      "\n"
     ]
    }
   ],
   "source": [
    "file_ = file[1]\n",
    "data = h5py.File(f'{file_}', 'r')\n",
    "for start_idx in tqdm(range(0, num_images, 20)):\n",
    "    end_idx = min(start_idx + batch_size, num_images)\n",
    "    images_batch = data[\"all_jet\"][start_idx:end_idx, :, :, :]\n",
    "    am_batch = data[\"am\"][start_idx:end_idx, :]\n",
    "    ieta_batch = data[\"ieta\"][start_idx:end_idx, :]\n",
    "    iphi_batch = data[\"iphi\"][start_idx:end_idx, :]\n",
    "    m0_batch = data[\"m0\"][start_idx:end_idx, :]\n",
    "    print(\"am:  \",am_batch)\n",
    "    break"
   ]
  },
  {
   "cell_type": "code",
   "execution_count": 26,
   "id": "e7a0cafa-33c1-4c17-8125-0aecd13447e1",
   "metadata": {},
   "outputs": [
    {
     "name": "stderr",
     "output_type": "stream",
     "text": [
      "  0%|          | 0/19162 [00:01<?, ?it/s]"
     ]
    },
    {
     "name": "stdout",
     "output_type": "stream",
     "text": [
      "am:   [[13.192395 ]\n",
      " [13.192395 ]\n",
      " [ 4.5067034]\n",
      " [ 4.5067034]\n",
      " [ 4.462794 ]\n",
      " [12.189075 ]\n",
      " [10.271461 ]\n",
      " [10.271461 ]\n",
      " [ 5.2134333]\n",
      " [ 5.2134333]]\n"
     ]
    },
    {
     "name": "stderr",
     "output_type": "stream",
     "text": [
      "\n"
     ]
    }
   ],
   "source": [
    "file_ = file[9]\n",
    "data = h5py.File(f'{file_}', 'r')\n",
    "for start_idx in tqdm(range(0, num_images, 20)):\n",
    "    end_idx = min(start_idx + batch_size, num_images)\n",
    "    images_batch = data[\"all_jet\"][start_idx:end_idx, :, :, :]\n",
    "    am_batch = data[\"am\"][start_idx:end_idx, :]\n",
    "    ieta_batch = data[\"ieta\"][start_idx:end_idx, :]\n",
    "    iphi_batch = data[\"iphi\"][start_idx:end_idx, :]\n",
    "    m0_batch = data[\"m0\"][start_idx:end_idx, :]\n",
    "    print(\"am:  \",am_batch)\n",
    "    break"
   ]
  },
  {
   "cell_type": "markdown",
   "id": "29e6a6e0-0f33-4dba-88dd-8a77b42ad31d",
   "metadata": {},
   "source": [
    "### Reading hdf5 for ML Models"
   ]
  },
  {
   "cell_type": "code",
   "execution_count": 2,
   "id": "99158fdb-6124-4ff5-8e5d-bda7d5b01364",
   "metadata": {
    "tags": []
   },
   "outputs": [],
   "source": [
    "import numpy as np\n",
    "import matplotlib.pyplot as plt\n",
    "import numpy as np\n",
    "\n",
    "import pyarrow.parquet as pq\n",
    "from torchvision import datasets, models, transforms\n",
    "from torch.utils.data import *\n",
    "from typing import Any\n",
    "from tqdm.auto import tqdm\n",
    "import matplotlib.pyplot as plt\n",
    "import numpy as np\n",
    "from torchvision.utils import make_grid\n",
    "from torch.utils.data import DataLoader\n",
    "import matplotlib.pyplot as plt\n",
    "from sklearn.metrics import accuracy_score\n",
    "from sklearn.metrics import roc_curve\n",
    "from sklearn import metrics\n",
    "import gc\n",
    "import os, glob\n",
    "import torch\n",
    "import torch.nn as nn\n",
    "import sys\n",
    "from einops import rearrange\n",
    "from einops.layers.torch import Rearrange\n",
    "import PIL.Image as Image\n",
    "import PIL as pil\n",
    "import time\n",
    "\n"
   ]
  },
  {
   "cell_type": "code",
   "execution_count": 4,
   "id": "c88f1af5-a7b1-430a-a5fa-b03810bdadcf",
   "metadata": {
    "tags": []
   },
   "outputs": [],
   "source": [
    "def load_data(master_folder_path):\n",
    "    subfolders = [os.path.join(master_folder_path, name) for name in os.listdir(master_folder_path) if os.path.isdir(os.path.join(master_folder_path, name))]\n",
    "    all_files = []\n",
    "    \n",
    "    for folder in subfolders:\n",
    "        files = [os.path.join(folder, file) for file in os.listdir(folder) if file.endswith('.h5')]\n",
    "        all_files.extend(files)\n",
    "\n",
    "    return all_files"
   ]
  },
  {
   "cell_type": "code",
   "execution_count": 6,
   "id": "82c50725-6dcb-413e-b85f-bd3c03c48ebb",
   "metadata": {
    "tags": []
   },
   "outputs": [
    {
     "name": "stdout",
     "output_type": "stream",
     "text": [
      "30\n"
     ]
    }
   ],
   "source": [
    "all_files = load_data('/pscratch/sd/b/bbbam/IMG_aToTauTau_Hadronic_tauDR0p4_normalised')\n",
    "print(len(all_files))"
   ]
  },
  {
   "cell_type": "code",
   "execution_count": 30,
   "id": "ea15ce1c-46a3-449d-b643-8af585ddf015",
   "metadata": {
    "tags": []
   },
   "outputs": [],
   "source": [
    "class H5Dataset(Dataset):\n",
    "    def __init__(self, file_paths):\n",
    "        self.file_paths = file_paths\n",
    "\n",
    "    def __len__(self):\n",
    "        return len(self.file_paths)\n",
    "    \n",
    "    def get_total_events(self):\n",
    "        length = 0\n",
    "        for fp in self.file_paths:\n",
    "            with h5py.File(fp, 'r') as file:  # Open the file in read-only mode\n",
    "                length += len(file['all_jet'])\n",
    "        return length\n",
    "\n",
    "    def __getitem__(self, idx):\n",
    "        file_path = self.file_paths[idx]\n",
    "        with h5py.File(file_path, 'r') as file:\n",
    "            # Assuming data and labels are stored in datasets named 'all_jet' and 'am'\n",
    "            data = file['all_jet'][()]\n",
    "            label = file['am'][()]\n",
    "        return data, label"
   ]
  },
  {
   "cell_type": "code",
   "execution_count": 33,
   "id": "c029d535-363f-4ed8-b5d9-f8c0f472053a",
   "metadata": {
    "tags": []
   },
   "outputs": [],
   "source": [
    "dset_train = H5Dataset(all_files)\n",
    "n_train = dset_train.get_total_events()"
   ]
  },
  {
   "cell_type": "code",
   "execution_count": 39,
   "id": "1aa7a4c5-6455-4c72-8643-ca209edd736c",
   "metadata": {
    "tags": []
   },
   "outputs": [],
   "source": [
    "train_sampler = RandomSampler(dset_train, replacement=True, num_samples=n_train)\n",
    "train_loader  = DataLoader(dataset=dset_train, batch_size=10, num_workers=1, pin_memory=True, sampler=train_sampler)"
   ]
  },
  {
   "cell_type": "code",
   "execution_count": 40,
   "id": "13e1f500-437f-4af8-8b48-468b7c3d741e",
   "metadata": {
    "tags": []
   },
   "outputs": [
    {
     "ename": "RuntimeError",
     "evalue": "DataLoader worker (pid(s) 828559) exited unexpectedly",
     "output_type": "error",
     "traceback": [
      "\u001b[0;31m---------------------------------------------------------------------------\u001b[0m",
      "\u001b[0;31mRuntimeError\u001b[0m                              Traceback (most recent call last)",
      "File \u001b[0;32m~/.conda/envs/Pytorch_VEN/lib/python3.8/site-packages/torch/utils/data/dataloader.py:1163\u001b[0m, in \u001b[0;36m_MultiProcessingDataLoaderIter._try_get_data\u001b[0;34m(self, timeout)\u001b[0m\n\u001b[1;32m   1162\u001b[0m \u001b[38;5;28;01mtry\u001b[39;00m:\n\u001b[0;32m-> 1163\u001b[0m     data \u001b[38;5;241m=\u001b[39m \u001b[38;5;28;43mself\u001b[39;49m\u001b[38;5;241;43m.\u001b[39;49m\u001b[43m_data_queue\u001b[49m\u001b[38;5;241;43m.\u001b[39;49m\u001b[43mget\u001b[49m\u001b[43m(\u001b[49m\u001b[43mtimeout\u001b[49m\u001b[38;5;241;43m=\u001b[39;49m\u001b[43mtimeout\u001b[49m\u001b[43m)\u001b[49m\n\u001b[1;32m   1164\u001b[0m     \u001b[38;5;28;01mreturn\u001b[39;00m (\u001b[38;5;28;01mTrue\u001b[39;00m, data)\n",
      "File \u001b[0;32m~/.conda/envs/Pytorch_VEN/lib/python3.8/queue.py:179\u001b[0m, in \u001b[0;36mQueue.get\u001b[0;34m(self, block, timeout)\u001b[0m\n\u001b[1;32m    178\u001b[0m             \u001b[38;5;28;01mraise\u001b[39;00m Empty\n\u001b[0;32m--> 179\u001b[0m         \u001b[38;5;28;43mself\u001b[39;49m\u001b[38;5;241;43m.\u001b[39;49m\u001b[43mnot_empty\u001b[49m\u001b[38;5;241;43m.\u001b[39;49m\u001b[43mwait\u001b[49m\u001b[43m(\u001b[49m\u001b[43mremaining\u001b[49m\u001b[43m)\u001b[49m\n\u001b[1;32m    180\u001b[0m item \u001b[38;5;241m=\u001b[39m \u001b[38;5;28mself\u001b[39m\u001b[38;5;241m.\u001b[39m_get()\n",
      "File \u001b[0;32m~/.conda/envs/Pytorch_VEN/lib/python3.8/threading.py:306\u001b[0m, in \u001b[0;36mCondition.wait\u001b[0;34m(self, timeout)\u001b[0m\n\u001b[1;32m    305\u001b[0m \u001b[38;5;28;01mif\u001b[39;00m timeout \u001b[38;5;241m>\u001b[39m \u001b[38;5;241m0\u001b[39m:\n\u001b[0;32m--> 306\u001b[0m     gotit \u001b[38;5;241m=\u001b[39m \u001b[43mwaiter\u001b[49m\u001b[38;5;241;43m.\u001b[39;49m\u001b[43macquire\u001b[49m\u001b[43m(\u001b[49m\u001b[38;5;28;43;01mTrue\u001b[39;49;00m\u001b[43m,\u001b[49m\u001b[43m \u001b[49m\u001b[43mtimeout\u001b[49m\u001b[43m)\u001b[49m\n\u001b[1;32m    307\u001b[0m \u001b[38;5;28;01melse\u001b[39;00m:\n",
      "File \u001b[0;32m~/.conda/envs/Pytorch_VEN/lib/python3.8/site-packages/torch/utils/data/_utils/signal_handling.py:66\u001b[0m, in \u001b[0;36m_set_SIGCHLD_handler.<locals>.handler\u001b[0;34m(signum, frame)\u001b[0m\n\u001b[1;32m     63\u001b[0m \u001b[38;5;28;01mdef\u001b[39;00m \u001b[38;5;21mhandler\u001b[39m(signum, frame):\n\u001b[1;32m     64\u001b[0m     \u001b[38;5;66;03m# This following call uses `waitid` with WNOHANG from C side. Therefore,\u001b[39;00m\n\u001b[1;32m     65\u001b[0m     \u001b[38;5;66;03m# Python can still get and update the process status successfully.\u001b[39;00m\n\u001b[0;32m---> 66\u001b[0m     \u001b[43m_error_if_any_worker_fails\u001b[49m\u001b[43m(\u001b[49m\u001b[43m)\u001b[49m\n\u001b[1;32m     67\u001b[0m     \u001b[38;5;28;01mif\u001b[39;00m previous_handler \u001b[38;5;129;01mis\u001b[39;00m \u001b[38;5;129;01mnot\u001b[39;00m \u001b[38;5;28;01mNone\u001b[39;00m:\n",
      "\u001b[0;31mRuntimeError\u001b[0m: DataLoader worker (pid 828559) is killed by signal: Killed. ",
      "\nThe above exception was the direct cause of the following exception:\n",
      "\u001b[0;31mRuntimeError\u001b[0m                              Traceback (most recent call last)",
      "Cell \u001b[0;32mIn[40], line 1\u001b[0m\n\u001b[0;32m----> 1\u001b[0m \u001b[38;5;28;01mfor\u001b[39;00m i, (data, target) \u001b[38;5;129;01min\u001b[39;00m \u001b[38;5;28menumerate\u001b[39m(train_loader):\n\u001b[1;32m      2\u001b[0m     \u001b[38;5;28mprint\u001b[39m(i, target)\n\u001b[1;32m      3\u001b[0m     \u001b[38;5;28;01mbreak\u001b[39;00m\n",
      "File \u001b[0;32m~/.conda/envs/Pytorch_VEN/lib/python3.8/site-packages/torch/utils/data/dataloader.py:681\u001b[0m, in \u001b[0;36m_BaseDataLoaderIter.__next__\u001b[0;34m(self)\u001b[0m\n\u001b[1;32m    678\u001b[0m \u001b[38;5;28;01mif\u001b[39;00m \u001b[38;5;28mself\u001b[39m\u001b[38;5;241m.\u001b[39m_sampler_iter \u001b[38;5;129;01mis\u001b[39;00m \u001b[38;5;28;01mNone\u001b[39;00m:\n\u001b[1;32m    679\u001b[0m     \u001b[38;5;66;03m# TODO(https://github.com/pytorch/pytorch/issues/76750)\u001b[39;00m\n\u001b[1;32m    680\u001b[0m     \u001b[38;5;28mself\u001b[39m\u001b[38;5;241m.\u001b[39m_reset()  \u001b[38;5;66;03m# type: ignore[call-arg]\u001b[39;00m\n\u001b[0;32m--> 681\u001b[0m data \u001b[38;5;241m=\u001b[39m \u001b[38;5;28;43mself\u001b[39;49m\u001b[38;5;241;43m.\u001b[39;49m\u001b[43m_next_data\u001b[49m\u001b[43m(\u001b[49m\u001b[43m)\u001b[49m\n\u001b[1;32m    682\u001b[0m \u001b[38;5;28mself\u001b[39m\u001b[38;5;241m.\u001b[39m_num_yielded \u001b[38;5;241m+\u001b[39m\u001b[38;5;241m=\u001b[39m \u001b[38;5;241m1\u001b[39m\n\u001b[1;32m    683\u001b[0m \u001b[38;5;28;01mif\u001b[39;00m \u001b[38;5;28mself\u001b[39m\u001b[38;5;241m.\u001b[39m_dataset_kind \u001b[38;5;241m==\u001b[39m _DatasetKind\u001b[38;5;241m.\u001b[39mIterable \u001b[38;5;129;01mand\u001b[39;00m \\\n\u001b[1;32m    684\u001b[0m         \u001b[38;5;28mself\u001b[39m\u001b[38;5;241m.\u001b[39m_IterableDataset_len_called \u001b[38;5;129;01mis\u001b[39;00m \u001b[38;5;129;01mnot\u001b[39;00m \u001b[38;5;28;01mNone\u001b[39;00m \u001b[38;5;129;01mand\u001b[39;00m \\\n\u001b[1;32m    685\u001b[0m         \u001b[38;5;28mself\u001b[39m\u001b[38;5;241m.\u001b[39m_num_yielded \u001b[38;5;241m>\u001b[39m \u001b[38;5;28mself\u001b[39m\u001b[38;5;241m.\u001b[39m_IterableDataset_len_called:\n",
      "File \u001b[0;32m~/.conda/envs/Pytorch_VEN/lib/python3.8/site-packages/torch/utils/data/dataloader.py:1359\u001b[0m, in \u001b[0;36m_MultiProcessingDataLoaderIter._next_data\u001b[0;34m(self)\u001b[0m\n\u001b[1;32m   1356\u001b[0m     \u001b[38;5;28;01mreturn\u001b[39;00m \u001b[38;5;28mself\u001b[39m\u001b[38;5;241m.\u001b[39m_process_data(data)\n\u001b[1;32m   1358\u001b[0m \u001b[38;5;28;01massert\u001b[39;00m \u001b[38;5;129;01mnot\u001b[39;00m \u001b[38;5;28mself\u001b[39m\u001b[38;5;241m.\u001b[39m_shutdown \u001b[38;5;129;01mand\u001b[39;00m \u001b[38;5;28mself\u001b[39m\u001b[38;5;241m.\u001b[39m_tasks_outstanding \u001b[38;5;241m>\u001b[39m \u001b[38;5;241m0\u001b[39m\n\u001b[0;32m-> 1359\u001b[0m idx, data \u001b[38;5;241m=\u001b[39m \u001b[38;5;28;43mself\u001b[39;49m\u001b[38;5;241;43m.\u001b[39;49m\u001b[43m_get_data\u001b[49m\u001b[43m(\u001b[49m\u001b[43m)\u001b[49m\n\u001b[1;32m   1360\u001b[0m \u001b[38;5;28mself\u001b[39m\u001b[38;5;241m.\u001b[39m_tasks_outstanding \u001b[38;5;241m-\u001b[39m\u001b[38;5;241m=\u001b[39m \u001b[38;5;241m1\u001b[39m\n\u001b[1;32m   1361\u001b[0m \u001b[38;5;28;01mif\u001b[39;00m \u001b[38;5;28mself\u001b[39m\u001b[38;5;241m.\u001b[39m_dataset_kind \u001b[38;5;241m==\u001b[39m _DatasetKind\u001b[38;5;241m.\u001b[39mIterable:\n\u001b[1;32m   1362\u001b[0m     \u001b[38;5;66;03m# Check for _IterableDatasetStopIteration\u001b[39;00m\n",
      "File \u001b[0;32m~/.conda/envs/Pytorch_VEN/lib/python3.8/site-packages/torch/utils/data/dataloader.py:1315\u001b[0m, in \u001b[0;36m_MultiProcessingDataLoaderIter._get_data\u001b[0;34m(self)\u001b[0m\n\u001b[1;32m   1313\u001b[0m \u001b[38;5;28;01melif\u001b[39;00m \u001b[38;5;28mself\u001b[39m\u001b[38;5;241m.\u001b[39m_pin_memory:\n\u001b[1;32m   1314\u001b[0m     \u001b[38;5;28;01mwhile\u001b[39;00m \u001b[38;5;28mself\u001b[39m\u001b[38;5;241m.\u001b[39m_pin_memory_thread\u001b[38;5;241m.\u001b[39mis_alive():\n\u001b[0;32m-> 1315\u001b[0m         success, data \u001b[38;5;241m=\u001b[39m \u001b[38;5;28;43mself\u001b[39;49m\u001b[38;5;241;43m.\u001b[39;49m\u001b[43m_try_get_data\u001b[49m\u001b[43m(\u001b[49m\u001b[43m)\u001b[49m\n\u001b[1;32m   1316\u001b[0m         \u001b[38;5;28;01mif\u001b[39;00m success:\n\u001b[1;32m   1317\u001b[0m             \u001b[38;5;28;01mreturn\u001b[39;00m data\n",
      "File \u001b[0;32m~/.conda/envs/Pytorch_VEN/lib/python3.8/site-packages/torch/utils/data/dataloader.py:1176\u001b[0m, in \u001b[0;36m_MultiProcessingDataLoaderIter._try_get_data\u001b[0;34m(self, timeout)\u001b[0m\n\u001b[1;32m   1174\u001b[0m \u001b[38;5;28;01mif\u001b[39;00m \u001b[38;5;28mlen\u001b[39m(failed_workers) \u001b[38;5;241m>\u001b[39m \u001b[38;5;241m0\u001b[39m:\n\u001b[1;32m   1175\u001b[0m     pids_str \u001b[38;5;241m=\u001b[39m \u001b[38;5;124m'\u001b[39m\u001b[38;5;124m, \u001b[39m\u001b[38;5;124m'\u001b[39m\u001b[38;5;241m.\u001b[39mjoin(\u001b[38;5;28mstr\u001b[39m(w\u001b[38;5;241m.\u001b[39mpid) \u001b[38;5;28;01mfor\u001b[39;00m w \u001b[38;5;129;01min\u001b[39;00m failed_workers)\n\u001b[0;32m-> 1176\u001b[0m     \u001b[38;5;28;01mraise\u001b[39;00m \u001b[38;5;167;01mRuntimeError\u001b[39;00m(\u001b[38;5;124m'\u001b[39m\u001b[38;5;124mDataLoader worker (pid(s) \u001b[39m\u001b[38;5;132;01m{}\u001b[39;00m\u001b[38;5;124m) exited unexpectedly\u001b[39m\u001b[38;5;124m'\u001b[39m\u001b[38;5;241m.\u001b[39mformat(pids_str)) \u001b[38;5;28;01mfrom\u001b[39;00m \u001b[38;5;21;01me\u001b[39;00m\n\u001b[1;32m   1177\u001b[0m \u001b[38;5;28;01mif\u001b[39;00m \u001b[38;5;28misinstance\u001b[39m(e, queue\u001b[38;5;241m.\u001b[39mEmpty):\n\u001b[1;32m   1178\u001b[0m     \u001b[38;5;28;01mreturn\u001b[39;00m (\u001b[38;5;28;01mFalse\u001b[39;00m, \u001b[38;5;28;01mNone\u001b[39;00m)\n",
      "\u001b[0;31mRuntimeError\u001b[0m: DataLoader worker (pid(s) 828559) exited unexpectedly"
     ]
    }
   ],
   "source": [
    "for i, (data, target) in enumerate(train_loader):\n",
    "    print(i, target)\n",
    "    break"
   ]
  },
  {
   "cell_type": "code",
   "execution_count": null,
   "id": "362dccd5-3385-4f9a-be5e-159b636287dd",
   "metadata": {},
   "outputs": [],
   "source": []
  }
 ],
 "metadata": {
  "kernelspec": {
   "display_name": "PyTorch_VEN",
   "language": "python",
   "name": "pytorch_ven"
  },
  "language_info": {
   "codemirror_mode": {
    "name": "ipython",
    "version": 3
   },
   "file_extension": ".py",
   "mimetype": "text/x-python",
   "name": "python",
   "nbconvert_exporter": "python",
   "pygments_lexer": "ipython3",
   "version": "3.8.18"
  }
 },
 "nbformat": 4,
 "nbformat_minor": 5
}
