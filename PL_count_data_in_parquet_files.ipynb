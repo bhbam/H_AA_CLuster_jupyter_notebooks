{
 "cells": [
  {
   "cell_type": "code",
   "execution_count": 1,
   "id": "eb9d2794-53be-4182-8a38-14b10769b69e",
   "metadata": {
    "tags": []
   },
   "outputs": [],
   "source": [
    "from pyarrow.parquet import ParquetFile\n",
    "import pyarrow as pa\n",
    "import glob"
   ]
  },
  {
   "cell_type": "code",
   "execution_count": null,
   "id": "720d9c20-b01a-4959-8172-a0486e688f08",
   "metadata": {
    "tags": []
   },
   "outputs": [
    {
     "name": "stdout",
     "output_type": "stream",
     "text": [
      "Total files   : 9\n",
      "/pscratch/sd/b/bbbam/IMG_aToTauTau_Hadronic_tauDR0p4_m1p2To17p2_dataset_2_unbaised_v2_train/IMG_aToTauTau_Hadronic_tauDR0p4_m1p2To3p6_dataset_2_unbaised_unphysical_0003_train.parquet ----->total number of data 89925\n",
      "                                               X_jet        am         apt  \\\n",
      "0  [[[0.0, 0.0, 0.0, 0.0, 0.0, 0.0, 0.0, 0.0, 0.0...  2.434086   82.104897   \n",
      "1  [[[0.0, 0.0, 0.0, 0.0, 0.0, 0.0, 0.0, 0.0, 0.0...  2.434086   82.104897   \n",
      "2  [[[0.0, 0.0, 0.0, 0.0, 0.0, 0.0, 0.0, 0.0, 0.0...  1.266742  102.053993   \n",
      "3  [[[0.0, 0.0, 0.0, 0.0, 0.0, 0.0, 0.0, 0.0, 0.0...  1.266742  102.053993   \n",
      "4  [[[0.0, 0.0, 0.0, 0.0, 0.0, 0.0, 0.0, 0.0, 0.0...  3.279063   46.306801   \n",
      "5  [[[0.0, 0.0, 0.0, 0.0, 0.0, 0.0, 0.0, 0.0, 0.0...  3.279063   46.306801   \n",
      "6  [[[0.0, 0.0, 0.0, 0.0, 0.0, 0.0, 0.0, 0.0, 0.0...  2.420397   87.842926   \n",
      "7  [[[0.0, 0.0, 0.0, 0.0, 0.0, 0.0, 0.0, 0.0, 0.0...  2.420397   87.842926   \n",
      "8  [[[0.0, 0.0, 0.0, 0.0, 0.0, 0.0, 0.0, 0.0, 0.0...  1.874489   82.954765   \n",
      "9  [[[0.0, 0.0, 0.0, 0.0, 0.0, 0.0, 0.0, 0.0, 0.0...  1.874489   82.954765   \n",
      "\n",
      "   ieta         m0  iphi    y  \n",
      "0  30.0  10.556210   5.0  1.0  \n",
      "1  26.0  10.490041  41.0  1.0  \n",
      "2  23.0   9.490148  10.0  1.0  \n",
      "3  32.0   8.594231  44.0  1.0  \n",
      "4  35.0   6.678788  36.0  1.0  \n",
      "5  21.0   3.878303  71.0  1.0  \n",
      "6  25.0  11.558978  45.0  1.0  \n",
      "7  30.0   4.177239   9.0  1.0  \n",
      "8  28.0  15.147045  55.0  1.0  \n",
      "9  28.0  17.056700  21.0  1.0  \n",
      "/pscratch/sd/b/bbbam/IMG_aToTauTau_Hadronic_tauDR0p4_m1p2To17p2_dataset_2_unbaised_v2_train/IMG_aToTauTau_Hadronic_tauDR0p4_m1p2To3p6_dataset_2_unbaised_unphysical_0005_train.parquet ----->total number of data 91885\n"
     ]
    }
   ],
   "source": [
    "# files = glob.glob(\"/pscratch/sd/b/bbbam/classification/train/*\")\n",
    "files = glob.glob(\"/pscratch/sd/b/bbbam/IMG_aToTauTau_Hadronic_tauDR0p4_m1p2To17p2_dataset_2_unbaised_v2_train/*m1p2*\")\n",
    "total = 0\n",
    "print(\"Total files   :\", len(files))\n",
    "for i in range (len(files)):\n",
    "    pf = ParquetFile(files[i])\n",
    "    A = pf.num_row_groups\n",
    "    print(files[i], \"----->total number of data\", A)\n",
    "    total = total + A\n",
    "    first_tenrow= next(pf.iter_batches(batch_size=10))\n",
    "    df=pa.Table.from_batches([first_tenrow]).to_pandas()\n",
    "    print(df)\n",
    "print(\"Total :  \", total)    "
   ]
  },
  {
   "cell_type": "code",
   "execution_count": 10,
   "id": "137e1ac5-ba41-49a4-aad1-38429b69a44e",
   "metadata": {
    "tags": []
   },
   "outputs": [
    {
     "name": "stdout",
     "output_type": "stream",
     "text": [
      "Total files   : 5\n",
      "/pscratch/sd/b/bbbam/classification/train/IMG_aToTauTau_Hadronic_tauDR0p4_m3p6To14p8_dataset_2_unbaised_v2_0003_train.parquet ----->total number of data 419701\n",
      "                                               X_jet         am         apt  \\\n",
      "0  [[[0.0, 0.0, 0.0, 0.0, 0.0, 0.0, 0.0, 0.0, 0.0...   7.430026   32.452854   \n",
      "1  [[[0.0, 0.0, 0.0, 0.0, 0.0, 0.0, 0.0, 0.0, 0.0...  13.100579  111.923271   \n",
      "2  [[[0.0, 0.0, 0.0, 0.0, 0.0, 0.0, 0.0, 0.0, 0.0...  13.100579  111.923271   \n",
      "3  [[[0.0, 0.0, 0.0, 0.0, 0.0, 0.0, 0.0, 0.0, 0.0...   4.211334   72.990959   \n",
      "4  [[[0.0, 0.0, 0.0, 0.0, 0.0, 0.0, 0.0, 0.0, 0.0...  10.653380  139.558853   \n",
      "5  [[[0.0, 0.0, 0.0, 0.0, 0.0, 0.0, 0.0, 0.0, 0.0...  10.653380  139.558853   \n",
      "6  [[[0.0, 0.0, 0.0, 0.0, 0.0, 0.0, 0.0, 0.0, 0.0...  10.730480  173.239304   \n",
      "7  [[[0.0, 0.0, 0.0, 0.0, 0.0, 0.0, 0.0, 0.0, 0.0...  10.730480  173.239304   \n",
      "8  [[[0.0, 0.0, 0.0, 0.0, 0.0, 0.0, 0.0, 0.0, 0.0...  11.151880   48.933998   \n",
      "9  [[[0.0, 0.0, 0.0, 0.0, 0.0, 0.0, 0.0, 0.0, 0.0...   9.470086  124.609703   \n",
      "\n",
      "   ieta         m0  iphi    y  \n",
      "0  17.0   7.237592  33.0  1.0  \n",
      "1  28.0  14.235381  67.0  1.0  \n",
      "2  26.0   9.342470  31.0  1.0  \n",
      "3  28.0  12.331185  42.0  1.0  \n",
      "4  13.0  12.413488  56.0  1.0  \n",
      "5  41.0  14.769895  22.0  1.0  \n",
      "6  27.0  11.783358  29.0  1.0  \n",
      "7  27.0   8.653626  67.0  1.0  \n",
      "8  23.0   6.994088  61.0  1.0  \n",
      "9  42.0  18.412287  25.0  1.0  \n",
      "/pscratch/sd/b/bbbam/classification/train/IMG_aToTauTau_Hadronic_tauDR0p4_m3p6To14p8_dataset_2_unbaised_v2_0001_train.parquet ----->total number of data 419687\n",
      "                                               X_jet         am         apt  \\\n",
      "0  [[[0.0, 0.0, 0.0, 0.0, 0.0, 0.0, 0.0, 0.0, 0.0...  12.542096   50.528542   \n",
      "1  [[[0.0, 0.0, 0.0, 0.0, 0.0, 0.0, 0.0, 0.0, 0.0...   8.431396   61.248566   \n",
      "2  [[[0.0, 0.0, 0.0, 0.0, 0.0, 0.0, 0.0, 0.0, 0.0...   8.431396   61.248566   \n",
      "3  [[[0.0, 0.0, 0.0, 0.0, 0.0, 0.0, 0.0, 0.0, 0.0...  13.388579   36.735737   \n",
      "4  [[[0.0, 0.0, 0.0, 0.0, 0.0, 0.0, 0.0, 0.0, 0.0...  12.421142   31.050636   \n",
      "5  [[[0.0, 0.0, 0.0, 0.0, 0.0, 0.0, 0.0, 0.0, 0.0...  12.458477  131.663391   \n",
      "6  [[[0.0, 0.0, 0.0, 0.0, 0.0, 0.0, 0.0, 0.0, 0.0...  10.106739   57.189610   \n",
      "7  [[[0.0, 0.0, 0.0, 0.0, 0.0, 0.0, 0.0, 0.0, 0.0...  11.503476   41.194401   \n",
      "8  [[[0.0, 0.0, 0.0, 0.0, 0.0, 0.0, 0.0, 0.0, 0.0...  14.369199   32.562210   \n",
      "9  [[[0.0, 0.0, 0.0, 0.0, 0.0, 0.0, 0.0, 0.0, 0.0...  13.413057   70.372063   \n",
      "\n",
      "   ieta         m0  iphi    y  \n",
      "0  38.0   3.584209   9.0  1.0  \n",
      "1  30.0  14.478926  12.0  1.0  \n",
      "2  24.0   9.994704  48.0  1.0  \n",
      "3  12.0   5.476477  60.0  1.0  \n",
      "4  12.0   5.466208  10.0  1.0  \n",
      "5  14.0  15.068914  23.0  1.0  \n",
      "6  22.0   9.963579  60.0  1.0  \n",
      "7  17.0   8.589803   2.0  1.0  \n",
      "8  43.0   7.912155  52.0  1.0  \n",
      "9  13.0   8.374286  37.0  1.0  \n",
      "/pscratch/sd/b/bbbam/classification/train/IMG_aToTauTau_Hadronic_tauDR0p4_m3p6To14p8_dataset_2_unbaised_v2_0004_train.parquet ----->total number of data 419665\n",
      "                                               X_jet         am         apt  \\\n",
      "0  [[[0.0, 0.0, 0.0, 0.0, 0.0, 0.0, 0.0, 0.0, 0.0...  11.814976  123.046272   \n",
      "1  [[[0.0, 0.0, 0.0, 0.0, 0.0, 0.0, 0.0, 0.0, 0.0...   3.840326  175.638443   \n",
      "2  [[[0.0, 0.0, 0.0, 0.0, 0.0, 0.0, 0.0, 0.0, 0.0...   3.840326  175.638443   \n",
      "3  [[[0.0, 0.0, 0.0, 0.0, 0.0, 0.0, 0.0, 0.0, 0.0...   4.192693   45.886303   \n",
      "4  [[[0.0, 0.0, 0.0, 0.0, 0.0, 0.0, 0.0, 0.0, 0.0...   4.192693   45.886303   \n",
      "5  [[[0.0, 0.0, 0.0, 0.0, 0.0, 0.0, 0.0, 0.0, 0.0...   6.814383   32.395386   \n",
      "6  [[[0.0, 0.0, 0.0, 0.0, 0.0, 0.0, 0.0, 0.0, 0.0...   6.814383   32.395386   \n",
      "7  [[[0.0, 0.0, 0.0, 0.0, 0.0, 0.0, 0.0, 0.0, 0.0...   4.921721  113.181419   \n",
      "8  [[[0.0, 0.0, 0.0, 0.0, 0.0, 0.0, 0.0, 0.0, 0.0...   4.921721  113.181419   \n",
      "9  [[[0.0, 0.0, 0.0, 0.0, 0.0, 0.0, 0.0, 0.0, 0.0...   8.826920  120.828423   \n",
      "\n",
      "   ieta         m0  iphi    y  \n",
      "0  37.0  17.168600  69.0  1.0  \n",
      "1  24.0  20.203255  20.0  1.0  \n",
      "2  31.0  22.493284  56.0  1.0  \n",
      "3  36.0  13.606136  15.0  1.0  \n",
      "4  19.0  10.829341  53.0  1.0  \n",
      "5  12.0   5.693612  68.0  1.0  \n",
      "6  41.0   5.425181  28.0  1.0  \n",
      "7  14.0  12.304202  19.0  1.0  \n",
      "8  40.0   9.506280  57.0  1.0  \n",
      "9  19.0  11.503121  65.0  1.0  \n",
      "/pscratch/sd/b/bbbam/classification/train/IMG_aToTauTau_Hadronic_tauDR0p4_m3p6To14p8_dataset_2_unbaised_v2_0000_train.parquet ----->total number of data 429739\n",
      "                                               X_jet         am         apt  \\\n",
      "0  [[[0.0, 0.0, 0.0, 0.0, 0.0, 0.0, 0.0, 0.0, 0.0...  11.139276  160.738678   \n",
      "1  [[[0.0, 0.0, 0.0, 0.0, 0.0, 0.0, 0.0, 0.0, 0.0...   9.155471  112.429382   \n",
      "2  [[[0.0, 0.0, 0.0, 0.0, 0.0, 0.0, 0.0, 0.0, 0.0...   9.155471  112.429382   \n",
      "3  [[[0.0, 0.0, 0.0, 0.0, 0.0, 0.0, 0.0, 0.0, 0.0...   4.613676   97.950348   \n",
      "4  [[[0.0, 0.0, 0.0, 0.0, 0.0, 0.0, 0.0, 0.0, 0.0...   4.613676   97.950348   \n",
      "5  [[[0.0, 0.0, 0.0, 0.0, 0.0, 0.0, 0.0, 0.0, 0.0...   4.414116  176.742355   \n",
      "6  [[[0.0, 0.0, 0.0, 0.0, 0.0, 0.0, 0.0, 0.0, 0.0...   4.414116  176.742355   \n",
      "7  [[[0.0, 0.0, 0.0, 0.0, 0.0, 0.0, 0.0, 0.0, 0.0...   3.941725  130.761490   \n",
      "8  [[[0.0, 0.0, 0.0, 0.0, 0.0, 0.0, 0.0, 0.0, 0.0...   6.594563   87.615166   \n",
      "9  [[[0.0, 0.0, 0.0, 0.0, 0.0, 0.0, 0.0, 0.0, 0.0...   6.594563   87.615166   \n",
      "\n",
      "   ieta         m0  iphi    y  \n",
      "0  32.0  17.757484  11.0  1.0  \n",
      "1  38.0  10.905212  20.0  1.0  \n",
      "2  18.0   9.424841  56.0  1.0  \n",
      "3  36.0  10.143000  33.0  1.0  \n",
      "4  23.0   9.185383  68.0  1.0  \n",
      "5  37.0  14.596156  31.0  1.0  \n",
      "6  19.0  11.329870  68.0  1.0  \n",
      "7  43.0  11.228348  34.0  1.0  \n",
      "8  26.0  12.746700  61.0  1.0  \n",
      "9  27.0   8.359061  22.0  1.0  \n",
      "/pscratch/sd/b/bbbam/classification/train/IMG_aToTauTau_Hadronic_tauDR0p4_m3p6To14p8_dataset_2_unbaised_v2_0002_train.parquet ----->total number of data 428952\n",
      "                                               X_jet         am         apt  \\\n",
      "0  [[[0.0, 0.0, 0.0, 0.0, 0.0, 0.0, 0.0, 0.0, 0.0...  13.192395   79.611008   \n",
      "1  [[[0.0, 0.0, 0.0, 0.0, 0.0, 0.0, 0.0, 0.0, 0.0...  13.192395   79.611008   \n",
      "2  [[[0.0, 0.0, 0.0, 0.0, 0.0, 0.0, 0.0, 0.0, 0.0...   4.506703   36.803295   \n",
      "3  [[[0.0, 0.0, 0.0, 0.0, 0.0, 0.0, 0.0, 0.0, 0.0...   4.506703   36.803295   \n",
      "4  [[[0.0, 0.0, 0.0, 0.0, 0.0, 0.0, 0.0, 0.0, 0.0...   4.462794  146.116501   \n",
      "5  [[[0.0, 0.0, 0.0, 0.0, 0.0, 0.0, 0.0, 0.0, 0.0...   4.462794  146.116501   \n",
      "6  [[[0.0, 0.0, 0.0, 0.0, 0.0, 0.0, 0.0, 0.0, 0.0...  12.189075   76.990517   \n",
      "7  [[[0.0, 0.0, 0.0, 0.0, 0.0, 0.0, 0.0, 0.0, 0.0...  10.271461   89.518066   \n",
      "8  [[[0.0, 0.0, 0.0, 0.0, 0.0, 0.0, 0.0, 0.0, 0.0...  10.271461   89.518066   \n",
      "9  [[[0.0, 0.0, 0.0, 0.0, 0.0, 0.0, 0.0, 0.0, 0.0...   5.213433  115.568314   \n",
      "\n",
      "   ieta         m0  iphi    y  \n",
      "0  24.0  14.945049  59.0  1.0  \n",
      "1  28.0  12.050137  22.0  1.0  \n",
      "2  40.0  10.847667  49.0  1.0  \n",
      "3  13.0   7.157164   7.0  1.0  \n",
      "4  18.0  13.257818  29.0  1.0  \n",
      "5  37.0  15.944869  63.0  1.0  \n",
      "6  36.0  22.226233  55.0  1.0  \n",
      "7  27.0   9.656042   9.0  1.0  \n",
      "8  27.0  13.371690  44.0  1.0  \n",
      "9  16.0  12.860089  45.0  1.0  \n",
      "Total :   2117744\n"
     ]
    }
   ],
   "source": [
    "files = glob.glob(\"/pscratch/sd/b/bbbam/classification/train/IMG_aToTauTau_Hadronic_tauDR0p4_m3p6To14p8_dataset_2_unbaised_v2*\")\n",
    "total = 0\n",
    "print(\"Total files   :\", len(files))\n",
    "for i in range (len(files)):\n",
    "    pf = ParquetFile(files[i])\n",
    "    A = pf.num_row_groups\n",
    "    print(files[i], \"----->total number of data\", A)\n",
    "    total = total + A\n",
    "    first_tenrow= next(pf.iter_batches(batch_size=10))\n",
    "    df=pa.Table.from_batches([first_tenrow]).to_pandas()\n",
    "    print(df)\n",
    "print(\"Total :  \", total)    "
   ]
  },
  {
   "cell_type": "code",
   "execution_count": 11,
   "id": "a650b740-17cb-453c-8377-02881285ef39",
   "metadata": {
    "tags": []
   },
   "outputs": [
    {
     "data": {
      "text/plain": [
       "2125000"
      ]
     },
     "execution_count": 11,
     "metadata": {},
     "output_type": "execute_result"
    }
   ],
   "source": [
    "4242744-2117744"
   ]
  },
  {
   "cell_type": "code",
   "execution_count": 9,
   "id": "5253483b-25fc-4ad2-9bf4-0e4a93419fcb",
   "metadata": {
    "tags": []
   },
   "outputs": [
    {
     "name": "stdout",
     "output_type": "stream",
     "text": [
      "DYToTauTau_M-50_13TeV_train.parquet\n",
      "GGH_TauTau_train.parquet\n",
      "IMG_aToTauTau_Hadronic_tauDR0p4_m3p6To14p8_dataset_2_unbaised_v2_0000_train.parquet\n",
      "IMG_aToTauTau_Hadronic_tauDR0p4_m3p6To14p8_dataset_2_unbaised_v2_0001_train.parquet\n",
      "IMG_aToTauTau_Hadronic_tauDR0p4_m3p6To14p8_dataset_2_unbaised_v2_0002_train.parquet\n",
      "IMG_aToTauTau_Hadronic_tauDR0p4_m3p6To14p8_dataset_2_unbaised_v2_0003_train.parquet\n",
      "IMG_aToTauTau_Hadronic_tauDR0p4_m3p6To14p8_dataset_2_unbaised_v2_0004_train.parquet\n",
      "QCD_Pt-15to7000_train.parquet\n",
      "TTToHadronic_train.parquet\n",
      "WJetsToLNu_train.parquet\n"
     ]
    }
   ],
   "source": [
    "!ls /pscratch/sd/b/bbbam/classification/train/"
   ]
  },
  {
   "cell_type": "code",
   "execution_count": null,
   "id": "39129e8d-4f4c-4d9d-a2ef-c09479f51c9c",
   "metadata": {},
   "outputs": [],
   "source": []
  }
 ],
 "metadata": {
  "kernelspec": {
   "display_name": "PyTorch_VEN",
   "language": "python",
   "name": "pytorch_ven"
  },
  "language_info": {
   "codemirror_mode": {
    "name": "ipython",
    "version": 3
   },
   "file_extension": ".py",
   "mimetype": "text/x-python",
   "name": "python",
   "nbconvert_exporter": "python",
   "pygments_lexer": "ipython3",
   "version": "3.8.18"
  }
 },
 "nbformat": 4,
 "nbformat_minor": 5
}
