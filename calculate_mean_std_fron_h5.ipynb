{
 "cells": [
  {
   "cell_type": "code",
   "execution_count": 1,
   "id": "45dca3e3-3ef2-47ad-8815-8d793eb66edd",
   "metadata": {
    "tags": []
   },
   "outputs": [],
   "source": [
    "import glob\n",
    "import os\n",
    "import shutil\n",
    "import random\n",
    "import json\n",
    "import pyarrow.parquet as pq\n",
    "import numpy as np\n",
    "import h5py\n",
    "import math\n",
    "import argparse\n",
    "from tqdm import tqdm\n",
    "import matplotlib.pyplot as plt\n"
   ]
  },
  {
   "cell_type": "code",
   "execution_count": 2,
   "id": "e19acd64-d38c-49f9-96f9-efd3cbfbaffd",
   "metadata": {
    "tags": []
   },
   "outputs": [
    {
     "name": "stdout",
     "output_type": "stream",
     "text": [
      "Total number---- 5263004\n"
     ]
    },
    {
     "name": "stderr",
     "output_type": "stream",
     "text": [
      "100%|██████████| 263151/263151 [50:15<00:00, 87.28it/s]  \n"
     ]
    },
    {
     "name": "stdout",
     "output_type": "stream",
     "text": [
      "mean ---- 9.182514 std  ------ 4.5799513\n"
     ]
    }
   ],
   "source": [
    "file =glob.glob('/pscratch/sd/b/bbbam/IMG_aToTauTau_masregression_samples_m1p2To17p2_combined_normalized/*train*')\n",
    "file_ = file[0]\n",
    "data = h5py.File(f'{file_}', 'r')\n",
    "num_images = len(data[\"all_jet\"])\n",
    "# num_images = 40000\n",
    "print(\"Total number----\", num_images)\n",
    "batch_size =100000\n",
    "mass = []\n",
    "for start_idx in tqdm(range(0, num_images, 20)):\n",
    "    end_idx = min(start_idx + batch_size, num_images)\n",
    "    # images_batch = data[\"all_jet\"][start_idx:end_idx, :, :, :]\n",
    "    am_batch = data[\"am\"][start_idx:end_idx, :]\n",
    "    # ieta_batch = data[\"ieta\"][start_idx:end_idx, :]\n",
    "    # iphi_batch = data[\"iphi\"][start_idx:end_idx, :]\n",
    "    # m0_batch = data[\"m0\"][start_idx:end_idx, :]\n",
    "    mass.append(am_batch)\n",
    "mass = np.concatenate(mass)\n",
    "print(\"mean ----\", np.mean(mass), \"std  ------\", np.std(mass))"
   ]
  },
  {
   "cell_type": "code",
   "execution_count": 2,
   "id": "0898bf22-e6fa-4535-a0d3-5d1b377c9759",
   "metadata": {},
   "outputs": [
    {
     "name": "stdout",
     "output_type": "stream",
     "text": [
      "Total number---- 590981\n"
     ]
    },
    {
     "name": "stderr",
     "output_type": "stream",
     "text": [
      "100%|██████████| 29550/29550 [18:53<00:00, 26.08it/s]  \n"
     ]
    },
    {
     "name": "stdout",
     "output_type": "stream",
     "text": [
      "mean ---- 8.821776 std  ------ 3.6128986\n"
     ]
    }
   ],
   "source": [
    "file =glob.glob('/pscratch/sd/b/bbbam/IMG_aToTauTau_masregression_samples_m1p2To17p2_combined_normalized/*val*')\n",
    "file_ = file[0]\n",
    "data = h5py.File(f'{file_}', 'r')\n",
    "num_images = len(data[\"all_jet\"])\n",
    "# num_images = 400000\n",
    "print(\"Total number----\", num_images)\n",
    "batch_size =100000\n",
    "mass = []\n",
    "for start_idx in tqdm(range(0, num_images, 20)):\n",
    "    end_idx = min(start_idx + batch_size, num_images)\n",
    "    # images_batch = data[\"all_jet\"][start_idx:end_idx, :, :, :]\n",
    "    am_batch = data[\"am\"][start_idx:end_idx, :]\n",
    "    # ieta_batch = data[\"ieta\"][start_idx:end_idx, :]\n",
    "    # iphi_batch = data[\"iphi\"][start_idx:end_idx, :]\n",
    "    # m0_batch = data[\"m0\"][start_idx:end_idx, :]\n",
    "    mass.append(am_batch)\n",
    "mass = np.concatenate(mass)\n",
    "print(\"mean ----\", np.mean(mass), \"std  ------\", np.std(mass))"
   ]
  },
  {
   "cell_type": "code",
   "execution_count": null,
   "id": "362dccd5-3385-4f9a-be5e-159b636287dd",
   "metadata": {
    "tags": []
   },
   "outputs": [],
   "source": [
    "plt.hist(mass,bins=len(np.arange(1.2,18,0.4)),  histtype='step', color='b')"
   ]
  },
  {
   "cell_type": "code",
   "execution_count": 11,
   "id": "de0d4f76-8197-4152-9be3-ef3bfa7aace6",
   "metadata": {
    "tags": []
   },
   "outputs": [
    {
     "data": {
      "text/plain": [
       "(array([1.08303200e+09, 1.08299400e+09, 1.08455400e+09, 1.08363000e+09,\n",
       "        1.08376600e+09, 1.08457000e+09, 1.08585200e+09, 1.08728000e+09,\n",
       "        1.05817841e+09, 7.47533587e+08]),\n",
       " array([ 1.20000017,  2.79999995,  4.4000001 ,  6.        ,  7.59999943,\n",
       "         9.19999981, 10.79999924, 12.39999962, 13.99999905, 15.59999943,\n",
       "        17.19999886]),\n",
       " [<matplotlib.patches.Polygon at 0x7fb045a002d0>])"
      ]
     },
     "execution_count": 11,
     "metadata": {},
     "output_type": "execute_result"
    },
    {
     "data": {
      "image/png": "[encoded data removed]",
      "text/plain": [
       "<Figure size 640x480 with 1 Axes>"
      ]
     },
     "metadata": {},
     "output_type": "display_data"
    }
   ],
   "source": [
    "plt.hist(mass,  histtype='step', color='b')"
   ]
  },
  {
   "cell_type": "code",
   "execution_count": null,
   "id": "82b7cda6-5209-4fa4-90f3-9e1a3b250cf8",
   "metadata": {},
   "outputs": [],
   "source": []
  }
 ],
 "metadata": {
  "kernelspec": {
   "display_name": "NERSC Python",
   "language": "python",
   "name": "python3"
  },
  "language_info": {
   "codemirror_mode": {
    "name": "ipython",
    "version": 3
   },
   "file_extension": ".py",
   "mimetype": "text/x-python",
   "name": "python",
   "nbconvert_exporter": "python",
   "pygments_lexer": "ipython3",
   "version": "3.11.7"
  }
 },
 "nbformat": 4,
 "nbformat_minor": 5
}
