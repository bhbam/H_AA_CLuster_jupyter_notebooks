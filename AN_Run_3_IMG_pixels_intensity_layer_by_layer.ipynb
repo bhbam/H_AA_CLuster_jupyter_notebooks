{
 "cells": [
  {
   "cell_type": "code",
   "execution_count": 1,
   "id": "8407f48a-12d8-41f6-a05c-b41132083dff",
   "metadata": {
    "tags": []
   },
   "outputs": [
    {
     "name": "stderr",
     "output_type": "stream",
     "text": [
      "Matplotlib created a temporary config/cache directory at /tmp/matplotlib-2a_n85a2 because the default path (/uscms/home/bbbam/.cache/matplotlib) is not a writable directory; it is highly recommended to set the MPLCONFIGDIR environment variable to a writable directory, in particular to speed up the import of Matplotlib and to better support multiprocessing.\n"
     ]
    }
   ],
   "source": [
    "import h5py\n",
    "import numpy as np\n",
    "import matplotlib.pyplot as plt\n",
    "import mplhep as hep\n",
    "import os, glob\n",
    "import matplotlib.pyplot as plt\n",
    "import matplotlib.colors as mcolors\n",
    "import mplhep as hep\n",
    "from skimage.measure import block_reduce\n",
    "from numpy.lib.stride_tricks import as_strided\n",
    "plt.style.use([hep.style.ROOT, hep.style.firamath])\n",
    "from matplotlib.colors import LinearSegmentedColormap\n",
    "from matplotlib.colors import LogNorm, ListedColormap, LinearSegmentedColormap\n",
    "import matplotlib.patches as mpatches\n",
    "# Define the CMS color scheme\n",
    "cms_colors = [\n",
    "    (0.00, '#FFFFFF'),  # White\n",
    "    (0.33, '#005EB8'),  # Blue\n",
    "    (0.66, '#FFDD00'),  # Yellow\n",
    "    (1.00, '#FF0000')   # red\n",
    "]\n",
    "\n",
    "# Create the CMS colormap\n",
    "cms_cmap = LinearSegmentedColormap.from_list('CMS', cms_colors)\n",
    "from numpy.lib.stride_tricks import as_strided\n",
    "\n",
    "plt.style.use(hep.style.CMS)  # Apply CMS plot style\n"
   ]
  },
  {
   "cell_type": "code",
   "execution_count": 2,
   "id": "ae9250d7-a22e-4743-b4b9-003fc4f5d32f",
   "metadata": {},
   "outputs": [],
   "source": [
    "# out_dir='data/plot_H_AA_4Tau_M_10_signal_kinematics'\n",
    "out_dir='../analysis_run3/AN_Note_Plot/Images_pixels_intensity'\n",
    "if not os.path.isdir(out_dir):\n",
    "    os.makedirs(out_dir)\n",
    "save = True"
   ]
  },
  {
   "cell_type": "code",
   "execution_count": 18,
   "id": "3e21b840-2e36-48a4-a3b4-dfb7dc45ee43",
   "metadata": {
    "tags": []
   },
   "outputs": [
    {
     "name": "stdout",
     "output_type": "stream",
     "text": [
      "Loaded dataset 'all_jet' with shape: (388745, 13, 125, 125)\n"
     ]
    },
    {
     "ename": "MemoryError",
     "evalue": "Unable to allocate 37.8 GiB for an array with shape (50000, 13, 125, 125) and data type float32",
     "output_type": "error",
     "traceback": [
      "\u001b[0;31m---------------------------------------------------------------------------\u001b[0m",
      "\u001b[0;31mMemoryError\u001b[0m                               Traceback (most recent call last)",
      "Cell \u001b[0;32mIn[18], line 71\u001b[0m\n\u001b[1;32m     69\u001b[0m \u001b[38;5;28;01mif\u001b[39;00m \u001b[38;5;18m__name__\u001b[39m \u001b[38;5;241m==\u001b[39m \u001b[38;5;124m\"\u001b[39m\u001b[38;5;124m__main__\u001b[39m\u001b[38;5;124m\"\u001b[39m:\n\u001b[1;32m     70\u001b[0m     file \u001b[38;5;241m=\u001b[39m \u001b[38;5;124m\"\u001b[39m\u001b[38;5;124m../analysis_run3/Data_for_plots/IMG_aToTauTau_Hadronic_m3p6To18_pt30T0300_unbiased_combined_valid.h5\u001b[39m\u001b[38;5;124m\"\u001b[39m\n\u001b[0;32m---> 71\u001b[0m     \u001b[43mplot_cms_hist_per_channel\u001b[49m\u001b[43m(\u001b[49m\u001b[43mfile\u001b[49m\u001b[43m)\u001b[49m\n",
      "Cell \u001b[0;32mIn[18], line 29\u001b[0m, in \u001b[0;36mplot_cms_hist_per_channel\u001b[0;34m(file, dataset_name, sample_size, bins, log_scale)\u001b[0m\n\u001b[1;32m     27\u001b[0m     idx \u001b[38;5;241m=\u001b[39m np\u001b[38;5;241m.\u001b[39mrandom\u001b[38;5;241m.\u001b[39mchoice(n_events, sample_size, replace\u001b[38;5;241m=\u001b[39m\u001b[38;5;28;01mFalse\u001b[39;00m)\n\u001b[1;32m     28\u001b[0m     idx\u001b[38;5;241m.\u001b[39msort()  \u001b[38;5;66;03m# Required for h5py\u001b[39;00m\n\u001b[0;32m---> 29\u001b[0m     sample \u001b[38;5;241m=\u001b[39m \u001b[43mdata\u001b[49m\u001b[43m[\u001b[49m\u001b[43midx\u001b[49m\u001b[43m,\u001b[49m\u001b[43m \u001b[49m\u001b[43m:\u001b[49m\u001b[43m,\u001b[49m\u001b[43m \u001b[49m\u001b[43m:\u001b[49m\u001b[43m,\u001b[49m\u001b[43m \u001b[49m\u001b[43m:\u001b[49m\u001b[43m]\u001b[49m\n\u001b[1;32m     30\u001b[0m \u001b[38;5;28;01melse\u001b[39;00m:\n\u001b[1;32m     31\u001b[0m     sample \u001b[38;5;241m=\u001b[39m data[:]\n",
      "File \u001b[0;32mh5py/_objects.pyx:54\u001b[0m, in \u001b[0;36mh5py._objects.with_phil.wrapper\u001b[0;34m()\u001b[0m\n",
      "File \u001b[0;32mh5py/_objects.pyx:55\u001b[0m, in \u001b[0;36mh5py._objects.with_phil.wrapper\u001b[0;34m()\u001b[0m\n",
      "File \u001b[0;32m/opt/conda/lib/python3.8/site-packages/h5py/_hl/dataset.py:768\u001b[0m, in \u001b[0;36mDataset.__getitem__\u001b[0;34m(self, args, new_dtype)\u001b[0m\n\u001b[1;32m    766\u001b[0m \u001b[38;5;28;01mif\u001b[39;00m \u001b[38;5;28mself\u001b[39m\u001b[38;5;241m.\u001b[39m_fast_read_ok \u001b[38;5;129;01mand\u001b[39;00m (new_dtype \u001b[38;5;129;01mis\u001b[39;00m \u001b[38;5;28;01mNone\u001b[39;00m):\n\u001b[1;32m    767\u001b[0m     \u001b[38;5;28;01mtry\u001b[39;00m:\n\u001b[0;32m--> 768\u001b[0m         \u001b[38;5;28;01mreturn\u001b[39;00m \u001b[38;5;28;43mself\u001b[39;49m\u001b[38;5;241;43m.\u001b[39;49m\u001b[43m_fast_reader\u001b[49m\u001b[38;5;241;43m.\u001b[39;49m\u001b[43mread\u001b[49m\u001b[43m(\u001b[49m\u001b[43margs\u001b[49m\u001b[43m)\u001b[49m\n\u001b[1;32m    769\u001b[0m     \u001b[38;5;28;01mexcept\u001b[39;00m \u001b[38;5;167;01mTypeError\u001b[39;00m:\n\u001b[1;32m    770\u001b[0m         \u001b[38;5;28;01mpass\u001b[39;00m  \u001b[38;5;66;03m# Fall back to Python read pathway below\u001b[39;00m\n",
      "File \u001b[0;32mh5py/_selector.pyx:368\u001b[0m, in \u001b[0;36mh5py._selector.Reader.read\u001b[0;34m()\u001b[0m\n",
      "File \u001b[0;32mh5py/_selector.pyx:342\u001b[0m, in \u001b[0;36mh5py._selector.Reader.make_array\u001b[0;34m()\u001b[0m\n",
      "\u001b[0;31mMemoryError\u001b[0m: Unable to allocate 37.8 GiB for an array with shape (50000, 13, 125, 125) and data type float32"
     ]
    }
   ],
   "source": [
    "\n",
    "def plot_cms_hist_per_channel(\n",
    "    file,\n",
    "    dataset_name=\"all_jet\",\n",
    "    sample_size=50000,\n",
    "    bins=100,\n",
    "    log_scale=True,\n",
    "):\n",
    "    \"\"\"\n",
    "    Plot CMS-styled histograms of pixel intensities for each channel.\n",
    "    \n",
    "    \"\"\"\n",
    "    layers =['Tracks_pt', 'Trac_dZSig', 'Trac_d0Sig', 'ECAL_energy', \\\n",
    "         'HBHE_energy', 'PixAtEcal_1','PixAtEcal_2', 'PixAtEcal_3', 'PixAtEcal_4', 'TibAtEcal_1',\\\n",
    "         'TibAtEcal_2', 'TobAtEcal_1','TobAtEcal_2']\n",
    "    x_labels = ['Track Pt [Gev]', 'dZ [mm]', 'd0 [mm]', 'Ecal Energy [GeV]', 'Hcal energy [GeV]', 'Pixel layer 1 hits', 'Pixel layer 2 hits', 'Pixel layer 3 hits',\\\n",
    "                'Pixel layer 3 hits', 'TIB layer 1 hits', 'TIB layer 2 hits', 'TOB layer 1 hits', 'TOB layer 2 hits']\n",
    "    zero_supression_min = np.array([0.001, 0.0001, 0.0001, 0.001, 0.001])\n",
    "    zero_supression_max = np.array([1000, 20, 10, 500, 100])\n",
    "        \n",
    "    with h5py.File(file, \"r\") as f:\n",
    "        data = f[dataset_name]\n",
    "        n_events, n_channels, h, w = data.shape\n",
    "        print(f\"Loaded dataset '{dataset_name}' with shape: {data.shape}\")\n",
    "\n",
    "        # Random sampling\n",
    "        if n_events > sample_size:\n",
    "            idx = np.random.choice(n_events, sample_size, replace=False)\n",
    "            idx.sort()  # Required for h5py\n",
    "            sample = data[idx, :, :, :]\n",
    "        else:\n",
    "            sample = data[:]\n",
    "\n",
    "        sample = np.array(sample)\n",
    "\n",
    "    # --- Plot individual histograms per channel ---\n",
    "    for i in range(n_channels):\n",
    "        fig, ax = plt.subplots(dpi=300)\n",
    "        pixels = sample[:, i, :, :].ravel()\n",
    "        if i==0:\n",
    "            pixels[pixels > zero_supression_max[i]] = 0\n",
    "            \n",
    "        pixels = pixels[pixels != 0]\n",
    "        if (i>4 and i<8):\n",
    "            bins=np.arange(0,16,1)\n",
    "        if i>7:\n",
    "            bins=np.arange(0,26,1)\n",
    "        ax.hist(pixels, bins=bins, histtype='step',color=\"steelblue\")\n",
    "        ax.set_xlabel(f\"{x_labels[i]}\")\n",
    "        ax.set_ylabel(\"Pixel Counts\")\n",
    "\n",
    "        if log_scale:\n",
    "            ax.set_yscale(\"log\")\n",
    "\n",
    "        # CMS label\n",
    "        hep.cms.label(\n",
    "            llabel=\"Simulation\",\n",
    "            rlabel=f\"{layers[i]}[{i+1}]              13.6 TeV\",\n",
    "            loc=0,\n",
    "            ax=ax,\n",
    "        )\n",
    "\n",
    "        plt.tight_layout()\n",
    "        plt.savefig(f'{out_dir}/mass_regression_sample_image_pixels_intensity_{layers[i]}.pdf',  bbox_inches='tight', dpi=300, facecolor = \"w\")\n",
    "        plt.show()\n",
    "        plt.close(fig)  # free memory\n",
    "        \n",
    "\n",
    "\n",
    "if __name__ == \"__main__\":\n",
    "    file = \"../analysis_run3/Data_for_plots/IMG_aToTauTau_Hadronic_m3p6To18_pt30T0300_unbiased_combined_valid.h5\"\n",
    "    plot_cms_hist_per_channel(file)\n"
   ]
  },
  {
   "cell_type": "markdown",
   "id": "dce4860e-8e5e-4a25-a7c5-61f5faf5d3fc",
   "metadata": {},
   "source": [
    "### Layesrs in images"
   ]
  },
  {
   "cell_type": "code",
   "execution_count": null,
   "id": "1cbca322-4339-4f9b-a71e-b344d31e0599",
   "metadata": {},
   "outputs": [],
   "source": []
  }
 ],
 "metadata": {
  "kernelspec": {
   "display_name": "Python 3 (ipykernel)",
   "language": "python",
   "name": "python3"
  },
  "language_info": {
   "codemirror_mode": {
    "name": "ipython",
    "version": 3
   },
   "file_extension": ".py",
   "mimetype": "text/x-python",
   "name": "python",
   "nbconvert_exporter": "python",
   "pygments_lexer": "ipython3",
   "version": "3.8.15"
  }
 },
 "nbformat": 4,
 "nbformat_minor": 5
}
