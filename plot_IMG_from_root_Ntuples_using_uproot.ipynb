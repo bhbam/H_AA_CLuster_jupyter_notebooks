{
 "cells": [
  {
   "cell_type": "code",
   "execution_count": 8,
   "id": "8407f48a-12d8-41f6-a05c-b41132083dff",
   "metadata": {
    "tags": []
   },
   "outputs": [],
   "source": [
    "import uproot\n",
    "import awkward as ak\n",
    "import numpy as np\n",
    "import pandas as pd\n",
    "import matplotlib.pyplot as plt\n",
    "import mplhep as hep\n",
    "import os, glob\n",
    "import matplotlib.pyplot as plt\n",
    "import matplotlib.colors as mcolors\n",
    "import mplhep as hep\n",
    "from skimage.measure import block_reduce\n",
    "from numpy.lib.stride_tricks import as_strided\n",
    "plt.style.use([hep.style.ROOT, hep.style.firamath])\n",
    "from matplotlib.colors import LinearSegmentedColormap\n",
    "from matplotlib.colors import LogNorm, ListedColormap, LinearSegmentedColormap\n",
    "import matplotlib.patches as mpatches\n",
    "# Define the CMS color scheme\n",
    "cms_colors = [\n",
    "    (0.00, '#FFFFFF'),  # White\n",
    "    (0.33, '#005EB8'),  # Blue\n",
    "    (0.66, '#FFDD00'),  # Yellow\n",
    "    (1.00, '#FF0000')   # red\n",
    "]\n",
    "\n",
    "# Create the CMS colormap\n",
    "cms_cmap = LinearSegmentedColormap.from_list('CMS', cms_colors)\n",
    "\n",
    "\n",
    "from numpy.lib.stride_tricks import as_strided\n",
    "\n",
    "\n",
    "def upsample_array(x, b0, b1):\n",
    "\n",
    "    r, c = x.shape                                    # number of rows/columns\n",
    "    rs, cs = x.strides                                # row/column strides\n",
    "    x = as_strided(x, (r, b0, c, b1), (rs, 0, cs, 0)) # view as a larger 4D array\n",
    "\n",
    "    return x.reshape(r*b0, c*b1)/(b0*b1)              # create new 2D array with same total occupancy\n",
    "\n",
    "def resample_EE(imgECAL, factor=2):\n",
    "\n",
    "    # EE-\n",
    "    imgEEm = imgECAL[:140-85] # EE- in the first 55 rows\n",
    "    imgEEm = np.pad(imgEEm, ((1,0),(0,0)), 'constant', constant_values=0) # for even downsampling, zero pad 55 -> 56\n",
    "    imgEEm_dn = block_reduce(imgEEm, block_size=(factor, factor), func=np.sum) # downsample by summing over [factor, factor] window\n",
    "    imgEEm_dn_up = upsample_array(imgEEm_dn, factor, factor)/(factor*factor) # upsample will use same values so need to correct scale by factor**2\n",
    "    imgECAL[:140-85] = imgEEm_dn_up[1:] ## replace the old EE- rows\n",
    "\n",
    "    # EE+\n",
    "    imgEEp = imgECAL[140+85:] # EE+ in the last 55 rows\n",
    "    imgEEp = np.pad(imgEEp, ((0,1),(0,0)), 'constant', constant_values=0) # for even downsampling, zero pad 55 -> 56\n",
    "    imgEEp_dn = block_reduce(imgEEp, block_size=(factor, factor), func=np.sum) # downsample by summing over [factor, factor] window\n",
    "    imgEEp_dn_up = upsample_array(imgEEp_dn, factor, factor)/(factor*factor) # upsample will use same values so need to correct scale by factor*factor\n",
    "    imgECAL[140+85:] = imgEEp_dn_up[:-1] # replace the old EE+ rows\n",
    "\n",
    "    return imgECAL\n",
    "\n",
    "\n",
    "\n",
    "def crop_jet(imgECAL, iphi, ieta, jet_shape=125):\n",
    "\n",
    "    # NOTE: jet_shape here should correspond to the one used in RHAnalyzer\n",
    "    off = jet_shape//2\n",
    "    iphi = int(iphi*5 + 2) # 5 EB xtals per HB tower\n",
    "    ieta = int(ieta*5 + 2) # 5 EB xtals per HB tower\n",
    "\n",
    "    # Wrap-around on left side\n",
    "    if iphi < off:\n",
    "        diff = off-iphi\n",
    "        img_crop = np.concatenate((imgECAL[:,ieta-off:ieta+off+1,-diff:],\n",
    "                                   imgECAL[:,ieta-off:ieta+off+1,:iphi+off+1]), axis=-1)\n",
    "    # Wrap-around on right side\n",
    "    elif 360-iphi < off:\n",
    "        diff = off - (360-iphi)\n",
    "        img_crop = np.concatenate((imgECAL[:,ieta-off:ieta+off+1,iphi-off:],\n",
    "                                   imgECAL[:,ieta-off:ieta+off+1,:diff+1]), axis=-1)\n",
    "    # Nominal case\n",
    "    else:\n",
    "        img_crop = imgECAL[:,ieta-off:ieta+off+1,iphi-off:iphi+off+1]\n",
    "\n",
    "    return img_crop"
   ]
  },
  {
   "cell_type": "code",
   "execution_count": 9,
   "id": "426a0c0b-8a4b-45f0-9676-eea4f9df032f",
   "metadata": {},
   "outputs": [],
   "source": [
    "#!pip install uproot --user"
   ]
  },
  {
   "cell_type": "code",
   "execution_count": 10,
   "id": "b619bfd2-aad1-4edc-8c92-08188f4159e5",
   "metadata": {
    "tags": []
   },
   "outputs": [],
   "source": [
    "# file = uproot.open(\"../analysis/mass_regreesion_ntuples/CMSSW_10_6_20/src/MLAnalyzer/HToAAToTauTau_signal_numEvent20.root\")\n",
    "file = uproot.open(\"../analysis/data_without_siLayer_full_hcal/CMSSW_10_6_20/src/MLAnalyzer/data_ditau_dijet_numEvent10.root\")\n",
    "RHTree = file[\"fevt/RHTree\"]"
   ]
  },
  {
   "cell_type": "code",
   "execution_count": 11,
   "id": "489703b5-5ced-456b-9171-482b2ad71f3d",
   "metadata": {
    "tags": []
   },
   "outputs": [
    {
     "name": "stdout",
     "output_type": "stream",
     "text": [
      "Number of layers 23\n"
     ]
    }
   ],
   "source": [
    "layers =['TracksAtECAL_pt', 'TracksAtECAL_dZSig', 'TracksAtECAL_d0Sig', 'ECAL_energy', \\\n",
    "         'HBHE_energy', 'PixAtEcal_1','PixAtEcal_2', 'PixAtEcal_3', 'PixAtEcal_4', 'TibAtEcal_1',\\\n",
    "         'TibAtEcal_2', 'TibAtEcal_3','TibAtEcal_4', 'TobAtEcal_1','TobAtEcal_2', 'TobAtEcal_3', \\\n",
    "         'TobAtEcal_4', 'TobAtEcal_5', 'TobAtEcal_6' , 'TidAtEcal_1',\\\n",
    "                                  'TecAtEcal_1', 'TecAtEcal_2', 'TecAtEcal_3']\n",
    "print(\"Number of layers\", len(layers))\n"
   ]
  },
  {
   "cell_type": "code",
   "execution_count": 12,
   "id": "e8af3633-686b-4528-a010-76f6e53332e2",
   "metadata": {
    "tags": []
   },
   "outputs": [],
   "source": [
    "branches = RHTree.arrays()"
   ]
  },
  {
   "cell_type": "code",
   "execution_count": 13,
   "id": "db32e236-07a1-4fa2-8fed-bb0fec4924ba",
   "metadata": {
    "tags": []
   },
   "outputs": [],
   "source": [
    "def plotJet_crop_single_layer(img, eve):\n",
    "    mins = [0.00001]*len(img)\n",
    "    maxs =[]\n",
    "    for j in range(len(img)):\n",
    "        maxs.append(img_cropped[j].max())\n",
    "    # out_dir='plot_for_prelim'\n",
    "    # if not os.path.isdir(out_dir):\n",
    "    #     os.makedirs(out_dir)\n",
    "    for k in range(len(img)):\n",
    "        if maxs[k]  > 0 : plt.imshow(img[k], cmap='Greys', norm=LogNorm(vmin=mins[0], vmax=maxs[0]),  alpha=0.9)\n",
    "        plt.title(f\"{layers[k]}\")\n",
    "        plt.xlabel(r\"$\\mathrm{i\\varphi}$\") #28, 30\n",
    "        plt.ylabel(r\"$\\mathrm{i\\eta}$\") #28, 30\n",
    "\n",
    "        # plt.savefig(f'{out_dir}/pixel_1_{eve}_{crop_position}.png',facecolor='w',dpi=300)\n",
    "        plt.show()\n",
    "\n",
    "def plotJet_crop(img, eve):\n",
    "#     out_dir='plot_for_prelim/Img_A_2Tau_unmerged_dR_1_1p5'\n",
    "#     if not os.path.isdir(out_dir):\n",
    "#         os.makedirs(out_dir)\n",
    "    mins = [0.001]*len(img)\n",
    "    maxs =[]\n",
    "    for i in range(len(img)):\n",
    "        maxs.append(img[i].max())\n",
    "    fig, ax = plt.subplots(figsize=(12,12))\n",
    "    if maxs[0]  > 0 : plt.imshow(img[0], cmap='Oranges', norm=LogNorm(vmin=mins[0], vmax=maxs[0]),  alpha=0.9)\n",
    "    if maxs[1]  > 0 : plt.imshow(img[1], cmap='Blues',   norm=LogNorm(vmin=mins[1], vmax=maxs[1]),  alpha=0.9)\n",
    "    if maxs[2]  > 0 : plt.imshow(img[2], cmap='Greys',   norm=LogNorm(vmin=mins[2], vmax=maxs[2]),  alpha=0.9)\n",
    "    if maxs[3]  > 0 : plt.imshow(img[3], cmap='Greens',  norm=LogNorm(vmin=mins[3], vmax=maxs[3]),  alpha=0.9)       \n",
    "    if maxs[4]  > 0 : plt.imshow(img[4], cmap='Blues',   norm=LogNorm(vmin=mins[4], vmax=maxs[4]),  alpha=0.4)   \n",
    "    if maxs[5]  > 0 : plt.imshow(img[5], cmap='Purples', norm=LogNorm(vmin=mins[5], vmax=maxs[5]),  alpha=0.9)   \n",
    "    if maxs[10] > 0 : plt.imshow(img[10], cmap= 'pink',  norm=LogNorm(vmin=mins[10],vmax=maxs[10]), alpha=0.9)\n",
    "    hep.cms.label(llabel=f\"Image event number {eve}\", rlabel=\"13 TeV\", loc=0, ax=ax)\n",
    "#     plt.title(f\"Image event number {eve} \")\n",
    "    plt.xlabel(r\"$\\mathrm{i\\varphi}$\") #28, 30\n",
    "    plt.ylabel(r\"$\\mathrm{i\\eta}$\") #28, 30\n",
    "    #LEGEND\n",
    "    colors = {0:'orange',1:'blue',2:'grey',3:'green',4:'lightblue',5:'purple',6:'pink'}\n",
    "    labels = {0:'Track pT',1:'dz_sig',2:'d0_sig',3:'ECAL',4:'HCAL',5:'BPix L1',6:'BStrip L1'}\n",
    "    patches =[mpatches.Patch(color=colors[i],label=labels[i]) for i in colors]\n",
    "    plt.legend(handles=patches, bbox_to_anchor=(1.005, 1), loc=2, borderaxespad=0.,fontsize=10 )\n",
    "#     plt.tight_layout()\n",
    "#     plt.savefig(f'{out_dir}/{eve}_Cropped_Image_event_crop_{crop_position}.png',facecolor='w',dpi=300,)\n",
    "    plt.show()"
   ]
  },
  {
   "cell_type": "code",
   "execution_count": 14,
   "id": "eb5823c2-79e8-4346-89cf-49f856f011f0",
   "metadata": {
    "tags": []
   },
   "outputs": [],
   "source": [
    "# y = ak.Array(branches[\"jetIsDiTau\"])\n",
    "y = ak.Array(branches[\"jetIsSignal\"])\n",
    "def make_img_eve(i):\n",
    "    ECAL_energy_ = np.array(branches[\"ECAL_energy\"][i]).reshape(280,360)\n",
    "    ECAL_energy = resample_EE(ECAL_energy_)\n",
    "    HBHE_energy_ = np.array(branches[\"HBHE_energy\"][i]).reshape(56,72)\n",
    "    HBHE_energy = upsample_array(HBHE_energy_, 5, 5) # (280, 360)\n",
    "    TracksAtECAL_pt = np.array(branches[\"ECAL_tracksPt_atECALfixIP\"][i]).reshape(280,360)\n",
    "    TracksAtECAL_dZSig = np.array(branches[\"ECAL_tracksDzSig_atECALfixIP\"][i]).reshape(280,360)\n",
    "    TracksAtECAL_d0Sig = np.array(branches[\"ECAL_tracksD0Sig_atECALfixIP\"][i]).reshape(280,360)\n",
    "    PixAtEcal_1        = np.array(branches[\"BPIX_layer1_ECAL_atPV\"][i]).reshape(280,360)\n",
    "    PixAtEcal_2        = np.array(branches[\"BPIX_layer2_ECAL_atPV\"][i]).reshape(280,360)\n",
    "    PixAtEcal_3        = np.array(branches[\"BPIX_layer3_ECAL_atPV\"][i]).reshape(280,360)\n",
    "    PixAtEcal_4        = np.array(branches[\"BPIX_layer4_ECAL_atPV\"][i]).reshape(280,360)\n",
    "    TibAtEcal_1        = np.array(branches[\"TIB_layer1_ECAL_atPV\"][i]).reshape(280,360)\n",
    "    TibAtEcal_2        = np.array(branches[\"TIB_layer2_ECAL_atPV\"][i]).reshape(280,360)\n",
    "    TibAtEcal_3        = np.array(branches[\"TIB_layer3_ECAL_atPV\"][i]).reshape(280,360)\n",
    "    TibAtEcal_4        = np.array(branches[\"TIB_layer4_ECAL_atPV\"][i]).reshape(280,360)\n",
    "    TobAtEcal_1        = np.array(branches[\"TOB_layer1_ECAL_atPV\"][i]).reshape(280,360)\n",
    "    TobAtEcal_2        = np.array(branches[\"TOB_layer2_ECAL_atPV\"][i]).reshape(280,360)\n",
    "    TobAtEcal_3        = np.array(branches[\"TOB_layer3_ECAL_atPV\"][i]).reshape(280,360)\n",
    "    TobAtEcal_4        = np.array(branches[\"TOB_layer4_ECAL_atPV\"][i]).reshape(280,360)\n",
    "    TobAtEcal_5        = np.array(branches[\"TOB_layer5_ECAL_atPV\"][i]).reshape(280,360)\n",
    "    TobAtEcal_6        = np.array(branches[\"TOB_layer6_ECAL_atPV\"][i]).reshape(280,360)\n",
    "    TecAtEcal_1        = np.array(branches[\"TEC_layer1_ECAL_atPV\"][i]).reshape(280,360)\n",
    "    TecAtEcal_2        = np.array(branches[\"TEC_layer2_ECAL_atPV\"][i]).reshape(280,360)\n",
    "    TecAtEcal_3        = np.array(branches[\"TEC_layer3_ECAL_atPV\"][i]).reshape(280,360)\n",
    "    TidAtEcal_1        = np.array(branches[\"TID_layer1_ECAL_atPV\"][i]).reshape(280,360)\n",
    "    X_CMS             = np.stack([TracksAtECAL_pt, TracksAtECAL_dZSig, TracksAtECAL_d0Sig, ECAL_energy, HBHE_energy, PixAtEcal_1,\\\n",
    "    PixAtEcal_2, PixAtEcal_3, PixAtEcal_4, TibAtEcal_1, TibAtEcal_2, TibAtEcal_3, TibAtEcal_4, TobAtEcal_1,\\\n",
    "                                  TobAtEcal_2, TobAtEcal_3, TobAtEcal_4, TobAtEcal_5, TobAtEcal_6, TidAtEcal_1,\\\n",
    "                                  TecAtEcal_1, TecAtEcal_2, TecAtEcal_3], axis=0) # (23, 280, 360)\n",
    "    \n",
    "    ys = ak.Array(branches[\"jetIsSignal\"])[i]\n",
    "    iphis  = ak.Array(branches[\"jetSeed_iphi\"])[i]\n",
    "    ietas  = ak.Array(branches[\"jetSeed_ieta\"])[i]\n",
    "    for j in range(len(ys)):\n",
    "        img_cropped = crop_jet(X_CMS, iphis[j], ietas[j], jet_shape=125)\n",
    "        plotJet_crop(img_cropped, i)\n",
    "        \n",
    "def make_img_all_layers(i):\n",
    "    ECAL_energy_ = np.array(branches[\"ECAL_energy\"][i]).reshape(280,360)\n",
    "    ECAL_energy = resample_EE(ECAL_energy_)\n",
    "    HBHE_energy_ = np.array(branches[\"HBHE_energy\"][i]).reshape(56,72)\n",
    "    HBHE_energy = upsample_array(HBHE_energy_, 5, 5) # (280, 360)\n",
    "    TracksAtECAL_pt = np.array(branches[\"ECAL_tracksPt_atECALfixIP\"][i]).reshape(280,360)\n",
    "    TracksAtECAL_dZSig = np.array(branches[\"ECAL_tracksDzSig_atECALfixIP\"][i]).reshape(280,360)\n",
    "    TracksAtECAL_d0Sig = np.array(branches[\"ECAL_tracksD0Sig_atECALfixIP\"][i]).reshape(280,360)\n",
    "    PixAtEcal_1        = np.array(branches[\"BPIX_layer1_ECAL_atPV\"][i]).reshape(280,360)\n",
    "    PixAtEcal_2        = np.array(branches[\"BPIX_layer2_ECAL_atPV\"][i]).reshape(280,360)\n",
    "    PixAtEcal_3        = np.array(branches[\"BPIX_layer3_ECAL_atPV\"][i]).reshape(280,360)\n",
    "    PixAtEcal_4        = np.array(branches[\"BPIX_layer4_ECAL_atPV\"][i]).reshape(280,360)\n",
    "    TibAtEcal_1        = np.array(branches[\"TIB_layer1_ECAL_atPV\"][i]).reshape(280,360)\n",
    "    TibAtEcal_2        = np.array(branches[\"TIB_layer2_ECAL_atPV\"][i]).reshape(280,360)\n",
    "    TibAtEcal_3        = np.array(branches[\"TIB_layer3_ECAL_atPV\"][i]).reshape(280,360)\n",
    "    TibAtEcal_4        = np.array(branches[\"TIB_layer4_ECAL_atPV\"][i]).reshape(280,360)\n",
    "    TobAtEcal_1        = np.array(branches[\"TOB_layer1_ECAL_atPV\"][i]).reshape(280,360)\n",
    "    TobAtEcal_2        = np.array(branches[\"TOB_layer2_ECAL_atPV\"][i]).reshape(280,360)\n",
    "    TobAtEcal_3        = np.array(branches[\"TOB_layer3_ECAL_atPV\"][i]).reshape(280,360)\n",
    "    TobAtEcal_4        = np.array(branches[\"TOB_layer4_ECAL_atPV\"][i]).reshape(280,360)\n",
    "    TobAtEcal_5        = np.array(branches[\"TOB_layer5_ECAL_atPV\"][i]).reshape(280,360)\n",
    "    TobAtEcal_6        = np.array(branches[\"TOB_layer6_ECAL_atPV\"][i]).reshape(280,360)\n",
    "    TecAtEcal_1        = np.array(branches[\"TEC_layer1_ECAL_atPV\"][i]).reshape(280,360)\n",
    "    TecAtEcal_2        = np.array(branches[\"TEC_layer2_ECAL_atPV\"][i]).reshape(280,360)\n",
    "    TecAtEcal_3        = np.array(branches[\"TEC_layer3_ECAL_atPV\"][i]).reshape(280,360)\n",
    "    TidAtEcal_1        = np.array(branches[\"TID_layer1_ECAL_atPV\"][i]).reshape(280,360)\n",
    "    X_CMS             = np.stack([TracksAtECAL_pt, TracksAtECAL_dZSig, TracksAtECAL_d0Sig, ECAL_energy, HBHE_energy, PixAtEcal_1,\\\n",
    "    PixAtEcal_2, PixAtEcal_3, PixAtEcal_4, TibAtEcal_1, TibAtEcal_2, TibAtEcal_3, TibAtEcal_4, TobAtEcal_1,\\\n",
    "                                  TobAtEcal_2, TobAtEcal_3, TobAtEcal_4, TobAtEcal_5, TobAtEcal_6, TidAtEcal_1,\\\n",
    "                                  TecAtEcal_1, TecAtEcal_2, TecAtEcal_3], axis=0) # (23, 280, 360)\n",
    "    \n",
    "    ys = ak.Array(branches[\"jetIsSignal\"])[i]\n",
    "    iphis  = ak.Array(branches[\"jetSeed_iphi\"])[i]\n",
    "    ietas  = ak.Array(branches[\"jetSeed_ieta\"])[i]\n",
    "    for j in range(len(ys)):\n",
    "        img_cropped = crop_jet(X_CMS, iphis[j], ietas[j], jet_shape=125)\n",
    "        plotJet_crop_single_layer(img_cropped, i)    "
   ]
  },
  {
   "cell_type": "code",
   "execution_count": 15,
   "id": "383fb66f-fec6-43cb-8218-79e2536c1e12",
   "metadata": {
    "tags": []
   },
   "outputs": [
    {
     "ename": "ValueError",
     "evalue": "cannot reshape array of size 0 into shape (280,360)",
     "output_type": "error",
     "traceback": [
      "\u001b[0;31m---------------------------------------------------------------------------\u001b[0m",
      "\u001b[0;31mValueError\u001b[0m                                Traceback (most recent call last)",
      "Cell \u001b[0;32mIn[15], line 2\u001b[0m\n\u001b[1;32m      1\u001b[0m \u001b[38;5;28;01mfor\u001b[39;00m i \u001b[38;5;129;01min\u001b[39;00m \u001b[38;5;28mrange\u001b[39m(\u001b[38;5;241m5\u001b[39m):\n\u001b[0;32m----> 2\u001b[0m     \u001b[43mmake_img_eve\u001b[49m\u001b[43m(\u001b[49m\u001b[43mi\u001b[49m\u001b[43m)\u001b[49m\n",
      "Cell \u001b[0;32mIn[14], line 8\u001b[0m, in \u001b[0;36mmake_img_eve\u001b[0;34m(i)\u001b[0m\n\u001b[1;32m      6\u001b[0m HBHE_energy_ \u001b[38;5;241m=\u001b[39m np\u001b[38;5;241m.\u001b[39marray(branches[\u001b[38;5;124m\"\u001b[39m\u001b[38;5;124mHBHE_energy\u001b[39m\u001b[38;5;124m\"\u001b[39m][i])\u001b[38;5;241m.\u001b[39mreshape(\u001b[38;5;241m56\u001b[39m,\u001b[38;5;241m72\u001b[39m)\n\u001b[1;32m      7\u001b[0m HBHE_energy \u001b[38;5;241m=\u001b[39m upsample_array(HBHE_energy_, \u001b[38;5;241m5\u001b[39m, \u001b[38;5;241m5\u001b[39m) \u001b[38;5;66;03m# (280, 360)\u001b[39;00m\n\u001b[0;32m----> 8\u001b[0m TracksAtECAL_pt \u001b[38;5;241m=\u001b[39m \u001b[43mnp\u001b[49m\u001b[38;5;241;43m.\u001b[39;49m\u001b[43marray\u001b[49m\u001b[43m(\u001b[49m\u001b[43mbranches\u001b[49m\u001b[43m[\u001b[49m\u001b[38;5;124;43m\"\u001b[39;49m\u001b[38;5;124;43mECAL_tracksPt_atECALfixIP\u001b[39;49m\u001b[38;5;124;43m\"\u001b[39;49m\u001b[43m]\u001b[49m\u001b[43m[\u001b[49m\u001b[43mi\u001b[49m\u001b[43m]\u001b[49m\u001b[43m)\u001b[49m\u001b[38;5;241;43m.\u001b[39;49m\u001b[43mreshape\u001b[49m\u001b[43m(\u001b[49m\u001b[38;5;241;43m280\u001b[39;49m\u001b[43m,\u001b[49m\u001b[38;5;241;43m360\u001b[39;49m\u001b[43m)\u001b[49m\n\u001b[1;32m      9\u001b[0m TracksAtECAL_dZSig \u001b[38;5;241m=\u001b[39m np\u001b[38;5;241m.\u001b[39marray(branches[\u001b[38;5;124m\"\u001b[39m\u001b[38;5;124mECAL_tracksDzSig_atECALfixIP\u001b[39m\u001b[38;5;124m\"\u001b[39m][i])\u001b[38;5;241m.\u001b[39mreshape(\u001b[38;5;241m280\u001b[39m,\u001b[38;5;241m360\u001b[39m)\n\u001b[1;32m     10\u001b[0m TracksAtECAL_d0Sig \u001b[38;5;241m=\u001b[39m np\u001b[38;5;241m.\u001b[39marray(branches[\u001b[38;5;124m\"\u001b[39m\u001b[38;5;124mECAL_tracksD0Sig_atECALfixIP\u001b[39m\u001b[38;5;124m\"\u001b[39m][i])\u001b[38;5;241m.\u001b[39mreshape(\u001b[38;5;241m280\u001b[39m,\u001b[38;5;241m360\u001b[39m)\n",
      "\u001b[0;31mValueError\u001b[0m: cannot reshape array of size 0 into shape (280,360)"
     ]
    }
   ],
   "source": [
    "for i in range(5):\n",
    "    make_img_eve(i)"
   ]
  },
  {
   "cell_type": "code",
   "execution_count": 16,
   "id": "f115a817-6704-448f-a236-41e73e7ad966",
   "metadata": {
    "tags": []
   },
   "outputs": [
    {
     "ename": "ValueError",
     "evalue": "cannot reshape array of size 0 into shape (280,360)",
     "output_type": "error",
     "traceback": [
      "\u001b[0;31m---------------------------------------------------------------------------\u001b[0m",
      "\u001b[0;31mValueError\u001b[0m                                Traceback (most recent call last)",
      "Cell \u001b[0;32mIn[16], line 1\u001b[0m\n\u001b[0;32m----> 1\u001b[0m \u001b[43mmake_img_all_layers\u001b[49m\u001b[43m(\u001b[49m\u001b[38;5;241;43m0\u001b[39;49m\u001b[43m)\u001b[49m\n",
      "Cell \u001b[0;32mIn[14], line 46\u001b[0m, in \u001b[0;36mmake_img_all_layers\u001b[0;34m(i)\u001b[0m\n\u001b[1;32m     44\u001b[0m HBHE_energy_ \u001b[38;5;241m=\u001b[39m np\u001b[38;5;241m.\u001b[39marray(branches[\u001b[38;5;124m\"\u001b[39m\u001b[38;5;124mHBHE_energy\u001b[39m\u001b[38;5;124m\"\u001b[39m][i])\u001b[38;5;241m.\u001b[39mreshape(\u001b[38;5;241m56\u001b[39m,\u001b[38;5;241m72\u001b[39m)\n\u001b[1;32m     45\u001b[0m HBHE_energy \u001b[38;5;241m=\u001b[39m upsample_array(HBHE_energy_, \u001b[38;5;241m5\u001b[39m, \u001b[38;5;241m5\u001b[39m) \u001b[38;5;66;03m# (280, 360)\u001b[39;00m\n\u001b[0;32m---> 46\u001b[0m TracksAtECAL_pt \u001b[38;5;241m=\u001b[39m \u001b[43mnp\u001b[49m\u001b[38;5;241;43m.\u001b[39;49m\u001b[43marray\u001b[49m\u001b[43m(\u001b[49m\u001b[43mbranches\u001b[49m\u001b[43m[\u001b[49m\u001b[38;5;124;43m\"\u001b[39;49m\u001b[38;5;124;43mECAL_tracksPt_atECALfixIP\u001b[39;49m\u001b[38;5;124;43m\"\u001b[39;49m\u001b[43m]\u001b[49m\u001b[43m[\u001b[49m\u001b[43mi\u001b[49m\u001b[43m]\u001b[49m\u001b[43m)\u001b[49m\u001b[38;5;241;43m.\u001b[39;49m\u001b[43mreshape\u001b[49m\u001b[43m(\u001b[49m\u001b[38;5;241;43m280\u001b[39;49m\u001b[43m,\u001b[49m\u001b[38;5;241;43m360\u001b[39;49m\u001b[43m)\u001b[49m\n\u001b[1;32m     47\u001b[0m TracksAtECAL_dZSig \u001b[38;5;241m=\u001b[39m np\u001b[38;5;241m.\u001b[39marray(branches[\u001b[38;5;124m\"\u001b[39m\u001b[38;5;124mECAL_tracksDzSig_atECALfixIP\u001b[39m\u001b[38;5;124m\"\u001b[39m][i])\u001b[38;5;241m.\u001b[39mreshape(\u001b[38;5;241m280\u001b[39m,\u001b[38;5;241m360\u001b[39m)\n\u001b[1;32m     48\u001b[0m TracksAtECAL_d0Sig \u001b[38;5;241m=\u001b[39m np\u001b[38;5;241m.\u001b[39marray(branches[\u001b[38;5;124m\"\u001b[39m\u001b[38;5;124mECAL_tracksD0Sig_atECALfixIP\u001b[39m\u001b[38;5;124m\"\u001b[39m][i])\u001b[38;5;241m.\u001b[39mreshape(\u001b[38;5;241m280\u001b[39m,\u001b[38;5;241m360\u001b[39m)\n",
      "\u001b[0;31mValueError\u001b[0m: cannot reshape array of size 0 into shape (280,360)"
     ]
    }
   ],
   "source": [
    "make_img_all_layers(0)"
   ]
  },
  {
   "cell_type": "code",
   "execution_count": 20,
   "id": "2a2f3702-9146-4ab4-b8ec-becd349b9ecd",
   "metadata": {
    "tags": []
   },
   "outputs": [
    {
     "ename": "ValueError",
     "evalue": "cannot reshape array of size 0 into shape (280,360)",
     "output_type": "error",
     "traceback": [
      "\u001b[0;31m---------------------------------------------------------------------------\u001b[0m",
      "\u001b[0;31mValueError\u001b[0m                                Traceback (most recent call last)",
      "Cell \u001b[0;32mIn[20], line 5\u001b[0m\n\u001b[1;32m      3\u001b[0m HBHE_energy_ \u001b[38;5;241m=\u001b[39m np\u001b[38;5;241m.\u001b[39marray(branches[\u001b[38;5;124m\"\u001b[39m\u001b[38;5;124mHBHE_energy\u001b[39m\u001b[38;5;124m\"\u001b[39m][i])\u001b[38;5;241m.\u001b[39mreshape(\u001b[38;5;241m56\u001b[39m,\u001b[38;5;241m72\u001b[39m)\n\u001b[1;32m      4\u001b[0m HBHE_energy \u001b[38;5;241m=\u001b[39m upsample_array(HBHE_energy_, \u001b[38;5;241m5\u001b[39m, \u001b[38;5;241m5\u001b[39m) \u001b[38;5;66;03m# (280, 360)\u001b[39;00m\n\u001b[0;32m----> 5\u001b[0m TracksAtECAL_pt \u001b[38;5;241m=\u001b[39m \u001b[43mnp\u001b[49m\u001b[38;5;241;43m.\u001b[39;49m\u001b[43marray\u001b[49m\u001b[43m(\u001b[49m\u001b[43mbranches\u001b[49m\u001b[43m[\u001b[49m\u001b[38;5;124;43m\"\u001b[39;49m\u001b[38;5;124;43mECAL_tracksPt_atECALfixIP\u001b[39;49m\u001b[38;5;124;43m\"\u001b[39;49m\u001b[43m]\u001b[49m\u001b[43m[\u001b[49m\u001b[43mi\u001b[49m\u001b[43m]\u001b[49m\u001b[43m)\u001b[49m\u001b[38;5;241;43m.\u001b[39;49m\u001b[43mreshape\u001b[49m\u001b[43m(\u001b[49m\u001b[38;5;241;43m280\u001b[39;49m\u001b[43m,\u001b[49m\u001b[38;5;241;43m360\u001b[39;49m\u001b[43m)\u001b[49m\n\u001b[1;32m      6\u001b[0m \u001b[38;5;66;03m# TracksAtECAL_dZSig = np.array(branches[\"ECAL_tracksDzSig_atECALfixIP\"][i]).reshape(280,360)\u001b[39;00m\n\u001b[1;32m      7\u001b[0m \u001b[38;5;66;03m# TracksAtECAL_d0Sig = np.array(branches[\"ECAL_tracksD0Sig_atECALfixIP\"][i]).reshape(280,360)\u001b[39;00m\n\u001b[1;32m      8\u001b[0m \u001b[38;5;66;03m# PixAtEcal_1        = np.array(branches[\"BPIX_layer1_ECAL_atPV\"][i]).reshape(280,360)\u001b[39;00m\n\u001b[0;32m   (...)\u001b[0m\n\u001b[1;32m     24\u001b[0m \u001b[38;5;66;03m# TecAtEcal_3        = np.array(branches[\"TEC_layer3_ECAL_atPV\"][i]).reshape(280,360)\u001b[39;00m\n\u001b[1;32m     25\u001b[0m \u001b[38;5;66;03m# TidAtEcal_1        = np.array(branches[\"TID_layer1_ECAL_atPV\"][i]).reshape(280,360)\u001b[39;00m\n",
      "\u001b[0;31mValueError\u001b[0m: cannot reshape array of size 0 into shape (280,360)"
     ]
    }
   ],
   "source": [
    "ECAL_energy_ = np.array(branches[\"ECAL_energy\"][i]).reshape(280,360)\n",
    "ECAL_energy = resample_EE(ECAL_energy_)\n",
    "HBHE_energy_ = np.array(branches[\"HBHE_energy\"][i]).reshape(56,72)\n",
    "HBHE_energy = upsample_array(HBHE_energy_, 5, 5) # (280, 360)\n",
    "\u0011TracksAtECAL_pt = np.array(branches[\"ECAL_tracksPt_atECALfixIP\"][i]).reshape(280,360)\n",
    "# TracksAtECAL_dZSig = np.array(branches[\"ECAL_tracksDzSig_atECALfixIP\"][i]).reshape(280,360)\n",
    "# TracksAtECAL_d0Sig = np.array(branches[\"ECAL_tracksD0Sig_atECALfixIP\"][i]).reshape(280,360)\n",
    "# PixAtEcal_1        = np.array(branches[\"BPIX_layer1_ECAL_atPV\"][i]).reshape(280,360)\n",
    "# PixAtEcal_2        = np.array(branches[\"BPIX_layer2_ECAL_atPV\"][i]).reshape(280,360)\n",
    "# PixAtEcal_3        = np.array(branches[\"BPIX_layer3_ECAL_atPV\"][i]).reshape(280,360)\n",
    "# PixAtEcal_4        = np.array(branches[\"BPIX_layer4_ECAL_atPV\"][i]).reshape(280,360)\n",
    "# TibAtEcal_1        = np.array(branches[\"TIB_layer1_ECAL_atPV\"][i]).reshape(280,360)\n",
    "# TibAtEcal_2        = np.array(branches[\"TIB_layer2_ECAL_atPV\"][i]).reshape(280,360)\n",
    "# TibAtEcal_3        = np.array(branches[\"TIB_layer3_ECAL_atPV\"][i]).reshape(280,360)\n",
    "# TibAtEcal_4        = np.array(branches[\"TIB_layer4_ECAL_atPV\"][i]).reshape(280,360)\n",
    "# TobAtEcal_1        = np.array(branches[\"TOB_layer1_ECAL_atPV\"][i]).reshape(280,360)\n",
    "# TobAtEcal_2        = np.array(branches[\"TOB_layer2_ECAL_atPV\"][i]).reshape(280,360)\n",
    "# TobAtEcal_3        = np.array(branches[\"TOB_layer3_ECAL_atPV\"][i]).reshape(280,360)\n",
    "# TobAtEcal_4        = np.array(branches[\"TOB_layer4_ECAL_atPV\"][i]).reshape(280,360)\n",
    "# TobAtEcal_5        = np.array(branches[\"TOB_layer5_ECAL_atPV\"][i]).reshape(280,360)\n",
    "# TobAtEcal_6        = np.array(branches[\"TOB_layer6_ECAL_atPV\"][i]).reshape(280,360)\n",
    "# TecAtEcal_1        = np.array(branches[\"TEC_layer1_ECAL_atPV\"][i]).reshape(280,360)\n",
    "# TecAtEcal_2        = np.array(branches[\"TEC_layer2_ECAL_atPV\"][i]).reshape(280,360)\n",
    "# TecAtEcal_3        = np.array(branches[\"TEC_layer3_ECAL_atPV\"][i]).reshape(280,360)\n",
    "# TidAtEcal_1        = np.array(branches[\"TID_layer1_ECAL_atPV\"][i]).reshape(280,360)"
   ]
  },
  {
   "cell_type": "code",
   "execution_count": 18,
   "id": "46da862b-d907-4315-bbc9-3cf365d695a6",
   "metadata": {
    "tags": []
   },
   "outputs": [
    {
     "data": {
      "text/plain": [
       "<matplotlib.image.AxesImage at 0x7fbccc260a30>"
      ]
     },
     "execution_count": 18,
     "metadata": {},
     "output_type": "execute_result"
    },
    {
     "data": {
      "image/png": "[encoded data removed]",
      "text/plain": [
       "<Figure size 1000x1000 with 1 Axes>"
      ]
     },
     "metadata": {},
     "output_type": "display_data"
    }
   ],
   "source": [
    "plt.imshow(ECAL_energy)"
   ]
  },
  {
   "cell_type": "code",
   "execution_count": 19,
   "id": "5bfa46a0-beb5-44c2-9a84-ee9a01316149",
   "metadata": {},
   "outputs": [
    {
     "data": {
      "text/plain": [
       "<matplotlib.image.AxesImage at 0x7fbccdd86a90>"
      ]
     },
     "execution_count": 19,
     "metadata": {},
     "output_type": "execute_result"
    },
    {
     "data": {
      "image/png": "[encoded data removed]",
      "text/plain": [
       "<Figure size 1000x1000 with 1 Axes>"
      ]
     },
     "metadata": {},
     "output_type": "display_data"
    }
   ],
   "source": [
    "plt.imshow(HBHE_energy)"
   ]
  },
  {
   "cell_type": "code",
   "execution_count": null,
   "id": "a913a841-e635-4f61-a4e4-afbac787a423",
   "metadata": {},
   "outputs": [],
   "source": []
  },
  {
   "cell_type": "code",
   "execution_count": null,
   "id": "262b7b1e-2807-453b-a8ff-a93ba2acc79b",
   "metadata": {},
   "outputs": [],
   "source": []
  },
  {
   "cell_type": "code",
   "execution_count": null,
   "id": "e36c3383-223a-4406-bbfa-d831389b5c22",
   "metadata": {},
   "outputs": [],
   "source": []
  },
  {
   "cell_type": "code",
   "execution_count": null,
   "id": "98815092-2c9f-43ad-93ef-eb8fc578fc6a",
   "metadata": {},
   "outputs": [],
   "source": []
  }
 ],
 "metadata": {
  "kernelspec": {
   "display_name": "Python 3 (ipykernel)",
   "language": "python",
   "name": "py3-preamble"
  },
  "language_info": {
   "codemirror_mode": {
    "name": "ipython",
    "version": 3
   },
   "file_extension": ".py",
   "mimetype": "text/x-python",
   "name": "python",
   "nbconvert_exporter": "python",
   "pygments_lexer": "ipython3",
   "version": "3.9.15"
  }
 },
 "nbformat": 4,
 "nbformat_minor": 5
}
